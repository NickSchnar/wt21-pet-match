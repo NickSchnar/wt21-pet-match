{
 "cells": [
  {
   "cell_type": "markdown",
   "id": "_yzLushd140O",
   "metadata": {
    "id": "_yzLushd140O"
   },
   "source": [
    "  ## Libraries"
   ]
  },
  {
   "cell_type": "code",
   "execution_count": 1,
   "id": "F8fYUs0gi-sI",
   "metadata": {
    "id": "F8fYUs0gi-sI"
   },
   "outputs": [],
   "source": [
    "# IMPORT THESE FIRST.\n",
    "import numpy as np\n",
    "import pandas as pd\n",
    "from sklearn.preprocessing import MinMaxScaler"
   ]
  },
  {
   "cell_type": "markdown",
   "id": "at4h44t3Q5PD",
   "metadata": {
    "id": "at4h44t3Q5PD"
   },
   "source": [
    "Load the raw data"
   ]
  },
  {
   "cell_type": "code",
   "execution_count": 2,
   "id": "9d36cdad",
   "metadata": {
    "id": "9d36cdad"
   },
   "outputs": [],
   "source": [
    "df = pd.read_excel(\"https://github.com/TechLabs-Berlin/wt21-pet-match/blob/main/data_set/pet-set.xlsx?raw=true\")\n",
    "#df.head()"
   ]
  },
  {
   "cell_type": "markdown",
   "id": "68b5f4ad",
   "metadata": {
    "id": "68b5f4ad"
   },
   "source": [
    "# Aggregating a variable discribing the satisfaction level in percentage"
   ]
  },
  {
   "cell_type": "code",
   "execution_count": 3,
   "id": "1beacb32",
   "metadata": {
    "colab": {
     "base_uri": "https://localhost:8080/"
    },
    "id": "1beacb32",
    "outputId": "927bf9d5-1303-42bb-bcad-83c58031e1d4"
   },
   "outputs": [
    {
     "data": {
      "text/plain": [
       "1.00    1940\n",
       "0.95     491\n",
       "0.90     286\n",
       "0.85     250\n",
       "0.80     133\n",
       "0.75      62\n",
       "0.70      38\n",
       "0.65      13\n",
       "0.60      12\n",
       "0.55       8\n",
       "0.40       5\n",
       "0.50       5\n",
       "0.35       2\n",
       "0.45       2\n",
       "0.25       1\n",
       "Name: satisf_level, dtype: int64"
      ]
     },
     "execution_count": 3,
     "metadata": {},
     "output_type": "execute_result"
    }
   ],
   "source": [
    "# replacing strings with numerical values\n",
    "df['expectations'] = df['My cat has met all my expectations'].replace({'Strongly agree': 5, 'Agree': 4, 'Neither agree nor disagree': 3, 'Disagree': 2, 'Strongly disagree': 1})\n",
    "df['happy_owner'] = df['I am happy with my cat'].replace({'Strongly agree': 5, 'Agree': 4, 'Neither agree nor disagree': 3, 'Disagree': 2, 'Strongly disagree': 1})\n",
    "df['happy_cat'] = df['I feel my cat is happy living with me'].replace({'Strongly agree': 5, 'Agree': 4, 'Neither agree nor disagree': 3, 'Disagree': 2, 'Strongly disagree': 1})\n",
    "df['rehome'] = df['I have considered relinquishing or rehoming this cat to someone else'].replace({'Strongly agree': 1, 'Agree': 2, 'Neither agree nor disagree': 3, 'Disagree': 4, 'Strongly disagree': 5})\n",
    "\n",
    "# aggregating final score\n",
    "df['satisf_level'] = (df['expectations'] + df['happy_owner'] + df['happy_cat'] + df['rehome'])/20\n",
    "\n",
    "df['satisf_level'].value_counts()"
   ]
  },
  {
   "cell_type": "markdown",
   "id": "kZinhKrhsjnw",
   "metadata": {
    "id": "kZinhKrhsjnw"
   },
   "source": [
    "# Adopters - cleaning and standardizing the data"
   ]
  },
  {
   "cell_type": "code",
   "execution_count": 4,
   "id": "s-n7xs0iUXcI",
   "metadata": {
    "id": "s-n7xs0iUXcI"
   },
   "outputs": [],
   "source": [
    "# returns an indexed list of all columns in initial data frame\n",
    "\n",
    "# i = 0\n",
    "# for col_name in df.columns:\n",
    "#   print(i, col_name)\n",
    "#   i += 1"
   ]
  },
  {
   "cell_type": "markdown",
   "id": "0ZuO_HdltN8f",
   "metadata": {
    "id": "0ZuO_HdltN8f"
   },
   "source": [
    "### manually defining the variables we will use\n",
    "See questionaire on Notion: [link text](https://www.notion.so/pet-match/Questions-dee1a76f4af04514a7ad63592773018b)"
   ]
  },
  {
   "cell_type": "code",
   "execution_count": 5,
   "id": "lK3gWseGVUa1",
   "metadata": {
    "id": "lK3gWseGVUa1"
   },
   "outputs": [],
   "source": [
    "columns_to_retain_adopters = [58,59,60,8,79,99,94,61,96,66,65,90,80,97,77,92,63,83,93]\n",
    "adopters = df.iloc[:, columns_to_retain_adopters]\n",
    "#adopters.info()"
   ]
  },
  {
   "cell_type": "code",
   "execution_count": 6,
   "id": "81HfTf58m3o6",
   "metadata": {
    "id": "81HfTf58m3o6"
   },
   "outputs": [],
   "source": [
    "# df"
   ]
  },
  {
   "cell_type": "markdown",
   "id": "nn1e_uhLtiBC",
   "metadata": {
    "id": "nn1e_uhLtiBC"
   },
   "source": [
    "### replacing the string values"
   ]
  },
  {
   "cell_type": "code",
   "execution_count": 7,
   "id": "ceb775e4",
   "metadata": {
    "colab": {
     "base_uri": "https://localhost:8080/"
    },
    "id": "ceb775e4",
    "outputId": "55f79a9f-5812-4041-9f28-4798f6b9d912"
   },
   "outputs": [
    {
     "name": "stderr",
     "output_type": "stream",
     "text": [
      "C:\\Users\\NickS\\anaconda4\\lib\\site-packages\\pandas\\core\\frame.py:5238: SettingWithCopyWarning: \n",
      "A value is trying to be set on a copy of a slice from a DataFrame\n",
      "\n",
      "See the caveats in the documentation: https://pandas.pydata.org/pandas-docs/stable/user_guide/indexing.html#returning-a-view-versus-a-copy\n",
      "  return super().replace(\n",
      "C:\\Users\\NickS\\anaconda4\\lib\\site-packages\\pandas\\core\\frame.py:5176: SettingWithCopyWarning: \n",
      "A value is trying to be set on a copy of a slice from a DataFrame\n",
      "\n",
      "See the caveats in the documentation: https://pandas.pydata.org/pandas-docs/stable/user_guide/indexing.html#returning-a-view-versus-a-copy\n",
      "  return super().fillna(\n"
     ]
    }
   ],
   "source": [
    "# remove the NaN , they are text here\n",
    "adopters.replace(\"NaN\",np.nan, inplace =True)\n",
    "adopters.fillna(0,inplace=True)\n",
    "\n",
    "# translationg into numeric values\n",
    "# be careful, it will throw an error if you run this block for the second time\n",
    "# Zeros reserved for NaN and missing values\n",
    "adopters = adopters.replace({'Agree strongly': 5, \n",
    "                  'Agree a little': 4, \n",
    "                  'Neither agree nor disagree': 3, \n",
    "                  'Disagree a little': 2, \n",
    "                  'Disagree strongly': 1, \n",
    "                  'Yes': 2, \n",
    "                  'No': 1, \n",
    "                  'Male': 1, \n",
    "                  'Female': 2,\n",
    "                  'Prefer not to say': 0, \n",
    "                  '18-24': 1,\n",
    "                  '25-34': 2,\n",
    "                  '35-44': 3,\n",
    "                  '45-54': 4,\n",
    "                  '55-64': 5,\n",
    "                  '65 and over': 6})"
   ]
  },
  {
   "cell_type": "markdown",
   "id": "A8eS7IkEp3Fe",
   "metadata": {
    "id": "A8eS7IkEp3Fe"
   },
   "source": [
    "## Scale the data to fit between Zero and One"
   ]
  },
  {
   "cell_type": "code",
   "execution_count": 8,
   "id": "kBq4jgM4Y82c",
   "metadata": {
    "id": "kBq4jgM4Y82c"
   },
   "outputs": [],
   "source": [
    "scaler_adopters = MinMaxScaler()\n",
    "adopters_scaled = scaler_adopters.fit_transform(adopters)"
   ]
  },
  {
   "cell_type": "markdown",
   "id": "VdFhCtmHqDxp",
   "metadata": {
    "id": "VdFhCtmHqDxp"
   },
   "source": [
    "## Renaming the columns to more readable"
   ]
  },
  {
   "cell_type": "code",
   "execution_count": 9,
   "id": "28NpQQajbeIB",
   "metadata": {
    "id": "28NpQQajbeIB"
   },
   "outputs": [],
   "source": [
    "adopters_scaled_df = pd.DataFrame(adopters_scaled, columns = ['adopter_gender', \n",
    "                   'adopter_age', \n",
    "                   'other_cats', \n",
    "                   'outdoor_access', \n",
    "                   'worries', \n",
    "                   'easily_nervous',\n",
    "                   'remains_calm',\n",
    "                   'talkative', \n",
    "                   'outgoing',\n",
    "                   'reserved', \n",
    "                   'new_ideas',\n",
    "                   'values_artistic',\n",
    "                   'active_imagination', \n",
    "                   'rude', \n",
    "                   'forgiving',\n",
    "                   'considerate', \n",
    "                   'thorough job', \n",
    "                   'lazy', \n",
    "                   'efficient'])"
   ]
  },
  {
   "cell_type": "markdown",
   "id": "71Mdxk5AuE0C",
   "metadata": {
    "id": "71Mdxk5AuE0C"
   },
   "source": [
    "### returns the standardized and cleaned data on adopters"
   ]
  },
  {
   "cell_type": "code",
   "execution_count": 10,
   "id": "X6wvYXwwb-lC",
   "metadata": {
    "id": "X6wvYXwwb-lC"
   },
   "outputs": [],
   "source": [
    "#adopters_scaled_df"
   ]
  },
  {
   "cell_type": "markdown",
   "id": "2PmIax05Z1nH",
   "metadata": {
    "id": "2PmIax05Z1nH"
   },
   "source": [
    "# Cats"
   ]
  },
  {
   "cell_type": "code",
   "execution_count": 11,
   "id": "BsUtJOCSIots",
   "metadata": {
    "id": "BsUtJOCSIots"
   },
   "outputs": [],
   "source": [
    "cats_raw = df.iloc[:, : 54]\n",
    "cats_raw = cats_raw.iloc[:, [0,2,7,8,11,14,24,26,27,28,41,42,33,43,44,45,46,52,53]]"
   ]
  },
  {
   "cell_type": "code",
   "execution_count": 12,
   "id": "PHxnELYneleR",
   "metadata": {
    "colab": {
     "base_uri": "https://localhost:8080/"
    },
    "id": "PHxnELYneleR",
    "outputId": "1b77e58a-c3e0-4ee8-cec5-acee93a14491"
   },
   "outputs": [],
   "source": [
    "# Breeds. I don't know, maybe we even transform it to dummies?\n",
    "#cats_raw['How would you describe your cat\\'s weight?'].value_counts()"
   ]
  },
  {
   "cell_type": "markdown",
   "id": "IbYjMBcqqOhF",
   "metadata": {
    "id": "IbYjMBcqqOhF"
   },
   "source": [
    "## Replacing the strings with numeric values"
   ]
  },
  {
   "cell_type": "code",
   "execution_count": 13,
   "id": "vMu5bjCJxNZk",
   "metadata": {
    "id": "vMu5bjCJxNZk"
   },
   "outputs": [],
   "source": [
    "# remove the NaN , they are text here\n",
    "cats_raw.replace(\"NaN\",np.nan, inplace =True)\n",
    "cats_raw.fillna(0,inplace=True)"
   ]
  },
  {
   "cell_type": "code",
   "execution_count": 14,
   "id": "lTBDEv2qIKDE",
   "metadata": {
    "id": "lTBDEv2qIKDE"
   },
   "outputs": [],
   "source": [
    "# NOT FINISHED, THERE MIGHT BE SOME OTHER VALUES THAT HAVE TO BE REPLACED\n",
    "cats_raw = cats_raw.replace({'Strongly disagree': 1, \n",
    "                  'Never': 1, \n",
    "                  'Disagree': 2, \n",
    "                  'Once': 2, \n",
    "                  'Neither agree nor disagree': 3, \n",
    "                  'Occasionally': 3, \n",
    "                  'Agree': 4, \n",
    "                  'Usually': 4, \n",
    "                  'Strongly agree': 5, \n",
    "                  'Always': 5,\n",
    "                  'Male': 1,\n",
    "                  'Female': 2,\n",
    "                  'No': 1,\n",
    "                  'Yes': 2,\n",
    "                  'Unsure': 0,\n",
    "                  'Very underweight': 1,\n",
    "                  'Underweight': 2,\n",
    "                  'Normal': 3,\n",
    "                  'Overweight': 4,\n",
    "                  'Very overweight': 5})"
   ]
  },
  {
   "cell_type": "markdown",
   "id": "iuSzbab2un9x",
   "metadata": {
    "id": "iuSzbab2un9x"
   },
   "source": [
    "### MinMaxScaler - needs to be adjusted for cats data"
   ]
  },
  {
   "cell_type": "code",
   "execution_count": 15,
   "id": "OdUzxoBbP82q",
   "metadata": {
    "id": "OdUzxoBbP82q"
   },
   "outputs": [],
   "source": [
    "cats_breed = cats_raw.iloc[:, 2]"
   ]
  },
  {
   "cell_type": "code",
   "execution_count": 16,
   "id": "oBikckWqunE4",
   "metadata": {
    "id": "oBikckWqunE4"
   },
   "outputs": [],
   "source": [
    "########\n",
    "# All the data should be numeric to be scaled, we need some idea for that\n",
    "# Here I transformed everything to numeric and scaled except breeds\n",
    "# one of the options - one hot encode for nominal values if there's no way to order them in numbers\n",
    "\n",
    "\n",
    "scaler_cats = MinMaxScaler()\n",
    "cats_scaled = scaler_cats.fit_transform(cats_raw.drop(columns = 'Other (please specify).1'))"
   ]
  },
  {
   "cell_type": "markdown",
   "id": "lzvK_1KovQXP",
   "metadata": {
    "id": "lzvK_1KovQXP"
   },
   "source": [
    "### Rename the columns for usability"
   ]
  },
  {
   "cell_type": "code",
   "execution_count": 17,
   "id": "zs9BS8TqvPzx",
   "metadata": {
    "id": "zs9BS8TqvPzx"
   },
   "outputs": [],
   "source": [
    "cats_scaled_df = pd.DataFrame(cats_scaled, columns = ['cat_age',\n",
    "                                                      'cat_gender',\n",
    "                                                      'needs_outdoor',\n",
    "                                                      'medical_conditions',\n",
    "                                                      'behavioural_problems',\n",
    "                                                      'cat_weight',\n",
    "                                                      'likes_to_explore',\n",
    "                                                      'playful',\n",
    "                                                      'vocal',\n",
    "                                                      'picked_up',\n",
    "                                                      'timid',\n",
    "                                                      'aggressive',\n",
    "                                                      'adapts_quickly',\n",
    "                                                      'prefers_alone',\n",
    "                                                      'likes_stroke',\n",
    "                                                      'tolerant_handled',\n",
    "                                                      'friendly',\n",
    "                                                      'fearful'\n",
    "])"
   ]
  },
  {
   "cell_type": "code",
   "execution_count": 18,
   "id": "mxRAv58-SPjm",
   "metadata": {
    "id": "mxRAv58-SPjm"
   },
   "outputs": [],
   "source": [
    "# cats_scaled_df"
   ]
  },
  {
   "cell_type": "code",
   "execution_count": 19,
   "id": "UFtgVpR_SVAD",
   "metadata": {
    "id": "UFtgVpR_SVAD"
   },
   "outputs": [],
   "source": [
    "# adding breed variable to the scaled data\n",
    "cats_scaled_breed = pd.concat([cats_scaled_df, cats_breed], axis = 1)\n",
    "cats_scaled_breed.rename(columns={'Other (please specify).1': 'breed'}, inplace = True)"
   ]
  },
  {
   "cell_type": "markdown",
   "id": "yhljHV35vdEx",
   "metadata": {
    "id": "yhljHV35vdEx"
   },
   "source": [
    "# Merge two datasets together + satisfaction level\n",
    "\n",
    "if everything goes well, after this step we are going to have a nice dataset to feed it to any algorithm!\n",
    "\n",
    "Howver, make sure you need/can use nominal values, there is one - breed, but you can replace the data set *cats_scaled_breed* with *cats_scaled_df* - last one is all scaled and numeric"
   ]
  },
  {
   "cell_type": "code",
   "execution_count": 20,
   "id": "enHBfpBFvcnm",
   "metadata": {
    "id": "enHBfpBFvcnm"
   },
   "outputs": [],
   "source": [
    "df_scaled = pd.concat([cats_scaled_breed, adopters_scaled_df, df[\"satisf_level\"]], axis=1)"
   ]
  },
  {
   "cell_type": "code",
   "execution_count": 21,
   "id": "BmvmqbGhTbq8",
   "metadata": {
    "colab": {
     "base_uri": "https://localhost:8080/",
     "height": 534
    },
    "id": "BmvmqbGhTbq8",
    "outputId": "63964ee9-bb1c-4f81-aa80-c0f4848e4715"
   },
   "outputs": [
    {
     "data": {
      "text/html": [
       "<div>\n",
       "<style scoped>\n",
       "    .dataframe tbody tr th:only-of-type {\n",
       "        vertical-align: middle;\n",
       "    }\n",
       "\n",
       "    .dataframe tbody tr th {\n",
       "        vertical-align: top;\n",
       "    }\n",
       "\n",
       "    .dataframe thead th {\n",
       "        text-align: right;\n",
       "    }\n",
       "</style>\n",
       "<table border=\"1\" class=\"dataframe\">\n",
       "  <thead>\n",
       "    <tr style=\"text-align: right;\">\n",
       "      <th></th>\n",
       "      <th>cat_age</th>\n",
       "      <th>cat_gender</th>\n",
       "      <th>needs_outdoor</th>\n",
       "      <th>medical_conditions</th>\n",
       "      <th>behavioural_problems</th>\n",
       "      <th>cat_weight</th>\n",
       "      <th>likes_to_explore</th>\n",
       "      <th>playful</th>\n",
       "      <th>vocal</th>\n",
       "      <th>picked_up</th>\n",
       "      <th>...</th>\n",
       "      <th>new_ideas</th>\n",
       "      <th>values_artistic</th>\n",
       "      <th>active_imagination</th>\n",
       "      <th>rude</th>\n",
       "      <th>forgiving</th>\n",
       "      <th>considerate</th>\n",
       "      <th>thorough job</th>\n",
       "      <th>lazy</th>\n",
       "      <th>efficient</th>\n",
       "      <th>satisf_level</th>\n",
       "    </tr>\n",
       "  </thead>\n",
       "  <tbody>\n",
       "    <tr>\n",
       "      <th>0</th>\n",
       "      <td>0.217391</td>\n",
       "      <td>0.0</td>\n",
       "      <td>1.0</td>\n",
       "      <td>1.0</td>\n",
       "      <td>0.0</td>\n",
       "      <td>0.50</td>\n",
       "      <td>0.75</td>\n",
       "      <td>0.75</td>\n",
       "      <td>0.50</td>\n",
       "      <td>0.4</td>\n",
       "      <td>...</td>\n",
       "      <td>0.4</td>\n",
       "      <td>1.0</td>\n",
       "      <td>0.6</td>\n",
       "      <td>0.2</td>\n",
       "      <td>0.8</td>\n",
       "      <td>1.0</td>\n",
       "      <td>0.8</td>\n",
       "      <td>0.8</td>\n",
       "      <td>0.8</td>\n",
       "      <td>1.00</td>\n",
       "    </tr>\n",
       "    <tr>\n",
       "      <th>1</th>\n",
       "      <td>0.043478</td>\n",
       "      <td>1.0</td>\n",
       "      <td>1.0</td>\n",
       "      <td>0.0</td>\n",
       "      <td>0.0</td>\n",
       "      <td>0.50</td>\n",
       "      <td>0.75</td>\n",
       "      <td>0.75</td>\n",
       "      <td>0.00</td>\n",
       "      <td>0.8</td>\n",
       "      <td>...</td>\n",
       "      <td>0.8</td>\n",
       "      <td>0.6</td>\n",
       "      <td>0.8</td>\n",
       "      <td>0.6</td>\n",
       "      <td>1.0</td>\n",
       "      <td>1.0</td>\n",
       "      <td>1.0</td>\n",
       "      <td>0.2</td>\n",
       "      <td>1.0</td>\n",
       "      <td>1.00</td>\n",
       "    </tr>\n",
       "    <tr>\n",
       "      <th>2</th>\n",
       "      <td>0.173913</td>\n",
       "      <td>0.0</td>\n",
       "      <td>0.0</td>\n",
       "      <td>0.0</td>\n",
       "      <td>0.0</td>\n",
       "      <td>0.75</td>\n",
       "      <td>1.00</td>\n",
       "      <td>0.50</td>\n",
       "      <td>0.75</td>\n",
       "      <td>0.4</td>\n",
       "      <td>...</td>\n",
       "      <td>0.6</td>\n",
       "      <td>0.0</td>\n",
       "      <td>0.8</td>\n",
       "      <td>0.0</td>\n",
       "      <td>0.8</td>\n",
       "      <td>0.0</td>\n",
       "      <td>1.0</td>\n",
       "      <td>0.0</td>\n",
       "      <td>0.0</td>\n",
       "      <td>0.85</td>\n",
       "    </tr>\n",
       "    <tr>\n",
       "      <th>3</th>\n",
       "      <td>0.130435</td>\n",
       "      <td>1.0</td>\n",
       "      <td>1.0</td>\n",
       "      <td>0.0</td>\n",
       "      <td>0.0</td>\n",
       "      <td>0.75</td>\n",
       "      <td>0.50</td>\n",
       "      <td>0.75</td>\n",
       "      <td>0.50</td>\n",
       "      <td>1.0</td>\n",
       "      <td>...</td>\n",
       "      <td>0.8</td>\n",
       "      <td>1.0</td>\n",
       "      <td>1.0</td>\n",
       "      <td>0.8</td>\n",
       "      <td>1.0</td>\n",
       "      <td>0.8</td>\n",
       "      <td>0.6</td>\n",
       "      <td>0.8</td>\n",
       "      <td>0.6</td>\n",
       "      <td>1.00</td>\n",
       "    </tr>\n",
       "    <tr>\n",
       "      <th>4</th>\n",
       "      <td>0.086957</td>\n",
       "      <td>1.0</td>\n",
       "      <td>1.0</td>\n",
       "      <td>0.0</td>\n",
       "      <td>0.0</td>\n",
       "      <td>1.00</td>\n",
       "      <td>0.75</td>\n",
       "      <td>0.50</td>\n",
       "      <td>1.00</td>\n",
       "      <td>0.4</td>\n",
       "      <td>...</td>\n",
       "      <td>0.6</td>\n",
       "      <td>0.6</td>\n",
       "      <td>0.6</td>\n",
       "      <td>0.6</td>\n",
       "      <td>0.8</td>\n",
       "      <td>0.8</td>\n",
       "      <td>0.8</td>\n",
       "      <td>0.8</td>\n",
       "      <td>0.8</td>\n",
       "      <td>1.00</td>\n",
       "    </tr>\n",
       "    <tr>\n",
       "      <th>...</th>\n",
       "      <td>...</td>\n",
       "      <td>...</td>\n",
       "      <td>...</td>\n",
       "      <td>...</td>\n",
       "      <td>...</td>\n",
       "      <td>...</td>\n",
       "      <td>...</td>\n",
       "      <td>...</td>\n",
       "      <td>...</td>\n",
       "      <td>...</td>\n",
       "      <td>...</td>\n",
       "      <td>...</td>\n",
       "      <td>...</td>\n",
       "      <td>...</td>\n",
       "      <td>...</td>\n",
       "      <td>...</td>\n",
       "      <td>...</td>\n",
       "      <td>...</td>\n",
       "      <td>...</td>\n",
       "      <td>...</td>\n",
       "      <td>...</td>\n",
       "    </tr>\n",
       "    <tr>\n",
       "      <th>3326</th>\n",
       "      <td>0.478261</td>\n",
       "      <td>1.0</td>\n",
       "      <td>0.0</td>\n",
       "      <td>0.0</td>\n",
       "      <td>0.0</td>\n",
       "      <td>0.50</td>\n",
       "      <td>1.00</td>\n",
       "      <td>1.00</td>\n",
       "      <td>0.50</td>\n",
       "      <td>0.8</td>\n",
       "      <td>...</td>\n",
       "      <td>0.6</td>\n",
       "      <td>0.8</td>\n",
       "      <td>0.6</td>\n",
       "      <td>0.2</td>\n",
       "      <td>1.0</td>\n",
       "      <td>1.0</td>\n",
       "      <td>0.8</td>\n",
       "      <td>0.2</td>\n",
       "      <td>0.8</td>\n",
       "      <td>1.00</td>\n",
       "    </tr>\n",
       "    <tr>\n",
       "      <th>3327</th>\n",
       "      <td>0.260870</td>\n",
       "      <td>0.0</td>\n",
       "      <td>1.0</td>\n",
       "      <td>0.0</td>\n",
       "      <td>0.0</td>\n",
       "      <td>0.50</td>\n",
       "      <td>1.00</td>\n",
       "      <td>0.75</td>\n",
       "      <td>0.50</td>\n",
       "      <td>0.8</td>\n",
       "      <td>...</td>\n",
       "      <td>1.0</td>\n",
       "      <td>1.0</td>\n",
       "      <td>1.0</td>\n",
       "      <td>0.4</td>\n",
       "      <td>1.0</td>\n",
       "      <td>1.0</td>\n",
       "      <td>0.8</td>\n",
       "      <td>0.8</td>\n",
       "      <td>1.0</td>\n",
       "      <td>1.00</td>\n",
       "    </tr>\n",
       "    <tr>\n",
       "      <th>3328</th>\n",
       "      <td>0.130435</td>\n",
       "      <td>0.0</td>\n",
       "      <td>0.0</td>\n",
       "      <td>0.0</td>\n",
       "      <td>0.0</td>\n",
       "      <td>0.50</td>\n",
       "      <td>1.00</td>\n",
       "      <td>1.00</td>\n",
       "      <td>1.00</td>\n",
       "      <td>1.0</td>\n",
       "      <td>...</td>\n",
       "      <td>1.0</td>\n",
       "      <td>1.0</td>\n",
       "      <td>1.0</td>\n",
       "      <td>0.8</td>\n",
       "      <td>1.0</td>\n",
       "      <td>1.0</td>\n",
       "      <td>0.6</td>\n",
       "      <td>1.0</td>\n",
       "      <td>0.8</td>\n",
       "      <td>1.00</td>\n",
       "    </tr>\n",
       "    <tr>\n",
       "      <th>3329</th>\n",
       "      <td>0.000000</td>\n",
       "      <td>0.0</td>\n",
       "      <td>0.0</td>\n",
       "      <td>0.0</td>\n",
       "      <td>0.0</td>\n",
       "      <td>0.50</td>\n",
       "      <td>0.75</td>\n",
       "      <td>1.00</td>\n",
       "      <td>0.50</td>\n",
       "      <td>1.0</td>\n",
       "      <td>...</td>\n",
       "      <td>0.6</td>\n",
       "      <td>1.0</td>\n",
       "      <td>0.8</td>\n",
       "      <td>0.8</td>\n",
       "      <td>0.2</td>\n",
       "      <td>1.0</td>\n",
       "      <td>1.0</td>\n",
       "      <td>0.4</td>\n",
       "      <td>1.0</td>\n",
       "      <td>1.00</td>\n",
       "    </tr>\n",
       "    <tr>\n",
       "      <th>3330</th>\n",
       "      <td>0.086957</td>\n",
       "      <td>0.0</td>\n",
       "      <td>0.0</td>\n",
       "      <td>0.0</td>\n",
       "      <td>0.0</td>\n",
       "      <td>0.50</td>\n",
       "      <td>0.75</td>\n",
       "      <td>0.75</td>\n",
       "      <td>0.75</td>\n",
       "      <td>1.0</td>\n",
       "      <td>...</td>\n",
       "      <td>0.6</td>\n",
       "      <td>0.6</td>\n",
       "      <td>0.6</td>\n",
       "      <td>0.6</td>\n",
       "      <td>0.8</td>\n",
       "      <td>0.6</td>\n",
       "      <td>0.8</td>\n",
       "      <td>0.8</td>\n",
       "      <td>0.8</td>\n",
       "      <td>1.00</td>\n",
       "    </tr>\n",
       "  </tbody>\n",
       "</table>\n",
       "<p>3331 rows × 39 columns</p>\n",
       "</div>"
      ],
      "text/plain": [
       "       cat_age  cat_gender  needs_outdoor  medical_conditions  \\\n",
       "0     0.217391         0.0            1.0                 1.0   \n",
       "1     0.043478         1.0            1.0                 0.0   \n",
       "2     0.173913         0.0            0.0                 0.0   \n",
       "3     0.130435         1.0            1.0                 0.0   \n",
       "4     0.086957         1.0            1.0                 0.0   \n",
       "...        ...         ...            ...                 ...   \n",
       "3326  0.478261         1.0            0.0                 0.0   \n",
       "3327  0.260870         0.0            1.0                 0.0   \n",
       "3328  0.130435         0.0            0.0                 0.0   \n",
       "3329  0.000000         0.0            0.0                 0.0   \n",
       "3330  0.086957         0.0            0.0                 0.0   \n",
       "\n",
       "      behavioural_problems  cat_weight  likes_to_explore  playful  vocal  \\\n",
       "0                      0.0        0.50              0.75     0.75   0.50   \n",
       "1                      0.0        0.50              0.75     0.75   0.00   \n",
       "2                      0.0        0.75              1.00     0.50   0.75   \n",
       "3                      0.0        0.75              0.50     0.75   0.50   \n",
       "4                      0.0        1.00              0.75     0.50   1.00   \n",
       "...                    ...         ...               ...      ...    ...   \n",
       "3326                   0.0        0.50              1.00     1.00   0.50   \n",
       "3327                   0.0        0.50              1.00     0.75   0.50   \n",
       "3328                   0.0        0.50              1.00     1.00   1.00   \n",
       "3329                   0.0        0.50              0.75     1.00   0.50   \n",
       "3330                   0.0        0.50              0.75     0.75   0.75   \n",
       "\n",
       "      picked_up  ...  new_ideas  values_artistic  active_imagination  rude  \\\n",
       "0           0.4  ...        0.4              1.0                 0.6   0.2   \n",
       "1           0.8  ...        0.8              0.6                 0.8   0.6   \n",
       "2           0.4  ...        0.6              0.0                 0.8   0.0   \n",
       "3           1.0  ...        0.8              1.0                 1.0   0.8   \n",
       "4           0.4  ...        0.6              0.6                 0.6   0.6   \n",
       "...         ...  ...        ...              ...                 ...   ...   \n",
       "3326        0.8  ...        0.6              0.8                 0.6   0.2   \n",
       "3327        0.8  ...        1.0              1.0                 1.0   0.4   \n",
       "3328        1.0  ...        1.0              1.0                 1.0   0.8   \n",
       "3329        1.0  ...        0.6              1.0                 0.8   0.8   \n",
       "3330        1.0  ...        0.6              0.6                 0.6   0.6   \n",
       "\n",
       "      forgiving  considerate  thorough job  lazy efficient  satisf_level  \n",
       "0           0.8          1.0           0.8   0.8       0.8          1.00  \n",
       "1           1.0          1.0           1.0   0.2       1.0          1.00  \n",
       "2           0.8          0.0           1.0   0.0       0.0          0.85  \n",
       "3           1.0          0.8           0.6   0.8       0.6          1.00  \n",
       "4           0.8          0.8           0.8   0.8       0.8          1.00  \n",
       "...         ...          ...           ...   ...       ...           ...  \n",
       "3326        1.0          1.0           0.8   0.2       0.8          1.00  \n",
       "3327        1.0          1.0           0.8   0.8       1.0          1.00  \n",
       "3328        1.0          1.0           0.6   1.0       0.8          1.00  \n",
       "3329        0.2          1.0           1.0   0.4       1.0          1.00  \n",
       "3330        0.8          0.6           0.8   0.8       0.8          1.00  \n",
       "\n",
       "[3331 rows x 39 columns]"
      ]
     },
     "execution_count": 21,
     "metadata": {},
     "output_type": "execute_result"
    }
   ],
   "source": [
    "df_scaled"
   ]
  },
  {
   "cell_type": "code",
   "execution_count": null,
   "id": "Y3ojahHjub1C",
   "metadata": {
    "id": "Y3ojahHjub1C"
   },
   "outputs": [],
   "source": []
  },
  {
   "cell_type": "code",
   "execution_count": 23,
   "id": "3309a136-4d6c-4357-8c24-17aee562f234",
   "metadata": {},
   "outputs": [],
   "source": [
    "%matplotlib notebook\n",
    "import numpy as np\n",
    "import matplotlib.pyplot as plt\n",
    "import pandas as pd\n",
    "from sklearn.model_selection import train_test_split"
   ]
  },
  {
   "cell_type": "markdown",
   "id": "nYS_SGl6wENQ",
   "metadata": {
    "id": "nYS_SGl6wENQ"
   },
   "source": [
    "# Fitting the model\n",
    "\n",
    "........."
   ]
  },
  {
   "cell_type": "code",
   "execution_count": 24,
   "id": "_A6KtP7dwJ04",
   "metadata": {
    "id": "_A6KtP7dwJ04"
   },
   "outputs": [],
   "source": [
    "X= df_scaled[[\"behavioural_problems\", \"rude\"]]\n",
    "y= df_scaled[[\"satisf_level\"]]\n",
    "\n",
    "X_train, X_test, y_train, y_test = train_test_split(X,y, random_state=0)\n",
    "             "
   ]
  },
  {
   "cell_type": "code",
   "execution_count": null,
   "id": "72bb310c-29e5-4300-957a-c299e52578b0",
   "metadata": {},
   "outputs": [],
   "source": []
  },
  {
   "cell_type": "code",
   "execution_count": 25,
   "id": "790a3c90-e99e-4591-8031-f38736089e35",
   "metadata": {},
   "outputs": [],
   "source": [
    "from sklearn.neighbors import KNeighborsClassifier\n",
    "knn = KNeighborsClassifier(n_neighbors =5)"
   ]
  },
  {
   "cell_type": "code",
   "execution_count": 26,
   "id": "2cdb3279-1fe5-4594-8d18-ca95cd6de1b4",
   "metadata": {},
   "outputs": [],
   "source": [
    "scaler = MinMaxScaler()\n",
    "X_train_scaled = scaler.fit_transform(X_train)\n",
    "# we must apply the scaling to the test set that we computed for the training set\n",
    "X_test_scaled = scaler.transform(X_test)"
   ]
  },
  {
   "cell_type": "code",
   "execution_count": 27,
   "id": "53843578-39eb-4aaa-9305-c820bef2adf7",
   "metadata": {},
   "outputs": [
    {
     "ename": "ValueError",
     "evalue": "Input contains NaN, infinity or a value too large for dtype('float64').",
     "output_type": "error",
     "traceback": [
      "\u001b[1;31m---------------------------------------------------------------------------\u001b[0m",
      "\u001b[1;31mValueError\u001b[0m                                Traceback (most recent call last)",
      "\u001b[1;32m~\\AppData\\Local\\Temp/ipykernel_21720/131641130.py\u001b[0m in \u001b[0;36m<module>\u001b[1;34m\u001b[0m\n\u001b[1;32m----> 1\u001b[1;33m \u001b[0mknn\u001b[0m\u001b[1;33m.\u001b[0m\u001b[0mfit\u001b[0m\u001b[1;33m(\u001b[0m\u001b[0mX_train\u001b[0m\u001b[1;33m,\u001b[0m \u001b[0my_train\u001b[0m\u001b[1;33m)\u001b[0m\u001b[1;33m\u001b[0m\u001b[1;33m\u001b[0m\u001b[0m\n\u001b[0m",
      "\u001b[1;32m~\\anaconda4\\lib\\site-packages\\sklearn\\neighbors\\_classification.py\u001b[0m in \u001b[0;36mfit\u001b[1;34m(self, X, y)\u001b[0m\n\u001b[0;32m    177\u001b[0m             \u001b[0mThe\u001b[0m \u001b[0mfitted\u001b[0m \u001b[0mk\u001b[0m\u001b[1;33m-\u001b[0m\u001b[0mnearest\u001b[0m \u001b[0mneighbors\u001b[0m \u001b[0mclassifier\u001b[0m\u001b[1;33m.\u001b[0m\u001b[1;33m\u001b[0m\u001b[1;33m\u001b[0m\u001b[0m\n\u001b[0;32m    178\u001b[0m         \"\"\"\n\u001b[1;32m--> 179\u001b[1;33m         \u001b[1;32mreturn\u001b[0m \u001b[0mself\u001b[0m\u001b[1;33m.\u001b[0m\u001b[0m_fit\u001b[0m\u001b[1;33m(\u001b[0m\u001b[0mX\u001b[0m\u001b[1;33m,\u001b[0m \u001b[0my\u001b[0m\u001b[1;33m)\u001b[0m\u001b[1;33m\u001b[0m\u001b[1;33m\u001b[0m\u001b[0m\n\u001b[0m\u001b[0;32m    180\u001b[0m \u001b[1;33m\u001b[0m\u001b[0m\n\u001b[0;32m    181\u001b[0m     \u001b[1;32mdef\u001b[0m \u001b[0mpredict\u001b[0m\u001b[1;33m(\u001b[0m\u001b[0mself\u001b[0m\u001b[1;33m,\u001b[0m \u001b[0mX\u001b[0m\u001b[1;33m)\u001b[0m\u001b[1;33m:\u001b[0m\u001b[1;33m\u001b[0m\u001b[1;33m\u001b[0m\u001b[0m\n",
      "\u001b[1;32m~\\anaconda4\\lib\\site-packages\\sklearn\\neighbors\\_base.py\u001b[0m in \u001b[0;36m_fit\u001b[1;34m(self, X, y)\u001b[0m\n\u001b[0;32m    361\u001b[0m         \u001b[1;32mif\u001b[0m \u001b[0mself\u001b[0m\u001b[1;33m.\u001b[0m\u001b[0m_get_tags\u001b[0m\u001b[1;33m(\u001b[0m\u001b[1;33m)\u001b[0m\u001b[1;33m[\u001b[0m\u001b[1;34m\"requires_y\"\u001b[0m\u001b[1;33m]\u001b[0m\u001b[1;33m:\u001b[0m\u001b[1;33m\u001b[0m\u001b[1;33m\u001b[0m\u001b[0m\n\u001b[0;32m    362\u001b[0m             \u001b[1;32mif\u001b[0m \u001b[1;32mnot\u001b[0m \u001b[0misinstance\u001b[0m\u001b[1;33m(\u001b[0m\u001b[0mX\u001b[0m\u001b[1;33m,\u001b[0m \u001b[1;33m(\u001b[0m\u001b[0mKDTree\u001b[0m\u001b[1;33m,\u001b[0m \u001b[0mBallTree\u001b[0m\u001b[1;33m,\u001b[0m \u001b[0mNeighborsBase\u001b[0m\u001b[1;33m)\u001b[0m\u001b[1;33m)\u001b[0m\u001b[1;33m:\u001b[0m\u001b[1;33m\u001b[0m\u001b[1;33m\u001b[0m\u001b[0m\n\u001b[1;32m--> 363\u001b[1;33m                 X, y = self._validate_data(X, y, accept_sparse=\"csr\",\n\u001b[0m\u001b[0;32m    364\u001b[0m                                            multi_output=True)\n\u001b[0;32m    365\u001b[0m \u001b[1;33m\u001b[0m\u001b[0m\n",
      "\u001b[1;32m~\\anaconda4\\lib\\site-packages\\sklearn\\base.py\u001b[0m in \u001b[0;36m_validate_data\u001b[1;34m(self, X, y, reset, validate_separately, **check_params)\u001b[0m\n\u001b[0;32m    431\u001b[0m                 \u001b[0my\u001b[0m \u001b[1;33m=\u001b[0m \u001b[0mcheck_array\u001b[0m\u001b[1;33m(\u001b[0m\u001b[0my\u001b[0m\u001b[1;33m,\u001b[0m \u001b[1;33m**\u001b[0m\u001b[0mcheck_y_params\u001b[0m\u001b[1;33m)\u001b[0m\u001b[1;33m\u001b[0m\u001b[1;33m\u001b[0m\u001b[0m\n\u001b[0;32m    432\u001b[0m             \u001b[1;32melse\u001b[0m\u001b[1;33m:\u001b[0m\u001b[1;33m\u001b[0m\u001b[1;33m\u001b[0m\u001b[0m\n\u001b[1;32m--> 433\u001b[1;33m                 \u001b[0mX\u001b[0m\u001b[1;33m,\u001b[0m \u001b[0my\u001b[0m \u001b[1;33m=\u001b[0m \u001b[0mcheck_X_y\u001b[0m\u001b[1;33m(\u001b[0m\u001b[0mX\u001b[0m\u001b[1;33m,\u001b[0m \u001b[0my\u001b[0m\u001b[1;33m,\u001b[0m \u001b[1;33m**\u001b[0m\u001b[0mcheck_params\u001b[0m\u001b[1;33m)\u001b[0m\u001b[1;33m\u001b[0m\u001b[1;33m\u001b[0m\u001b[0m\n\u001b[0m\u001b[0;32m    434\u001b[0m             \u001b[0mout\u001b[0m \u001b[1;33m=\u001b[0m \u001b[0mX\u001b[0m\u001b[1;33m,\u001b[0m \u001b[0my\u001b[0m\u001b[1;33m\u001b[0m\u001b[1;33m\u001b[0m\u001b[0m\n\u001b[0;32m    435\u001b[0m \u001b[1;33m\u001b[0m\u001b[0m\n",
      "\u001b[1;32m~\\anaconda4\\lib\\site-packages\\sklearn\\utils\\validation.py\u001b[0m in \u001b[0;36minner_f\u001b[1;34m(*args, **kwargs)\u001b[0m\n\u001b[0;32m     61\u001b[0m             \u001b[0mextra_args\u001b[0m \u001b[1;33m=\u001b[0m \u001b[0mlen\u001b[0m\u001b[1;33m(\u001b[0m\u001b[0margs\u001b[0m\u001b[1;33m)\u001b[0m \u001b[1;33m-\u001b[0m \u001b[0mlen\u001b[0m\u001b[1;33m(\u001b[0m\u001b[0mall_args\u001b[0m\u001b[1;33m)\u001b[0m\u001b[1;33m\u001b[0m\u001b[1;33m\u001b[0m\u001b[0m\n\u001b[0;32m     62\u001b[0m             \u001b[1;32mif\u001b[0m \u001b[0mextra_args\u001b[0m \u001b[1;33m<=\u001b[0m \u001b[1;36m0\u001b[0m\u001b[1;33m:\u001b[0m\u001b[1;33m\u001b[0m\u001b[1;33m\u001b[0m\u001b[0m\n\u001b[1;32m---> 63\u001b[1;33m                 \u001b[1;32mreturn\u001b[0m \u001b[0mf\u001b[0m\u001b[1;33m(\u001b[0m\u001b[1;33m*\u001b[0m\u001b[0margs\u001b[0m\u001b[1;33m,\u001b[0m \u001b[1;33m**\u001b[0m\u001b[0mkwargs\u001b[0m\u001b[1;33m)\u001b[0m\u001b[1;33m\u001b[0m\u001b[1;33m\u001b[0m\u001b[0m\n\u001b[0m\u001b[0;32m     64\u001b[0m \u001b[1;33m\u001b[0m\u001b[0m\n\u001b[0;32m     65\u001b[0m             \u001b[1;31m# extra_args > 0\u001b[0m\u001b[1;33m\u001b[0m\u001b[1;33m\u001b[0m\u001b[0m\n",
      "\u001b[1;32m~\\anaconda4\\lib\\site-packages\\sklearn\\utils\\validation.py\u001b[0m in \u001b[0;36mcheck_X_y\u001b[1;34m(X, y, accept_sparse, accept_large_sparse, dtype, order, copy, force_all_finite, ensure_2d, allow_nd, multi_output, ensure_min_samples, ensure_min_features, y_numeric, estimator)\u001b[0m\n\u001b[0;32m    878\u001b[0m                     estimator=estimator)\n\u001b[0;32m    879\u001b[0m     \u001b[1;32mif\u001b[0m \u001b[0mmulti_output\u001b[0m\u001b[1;33m:\u001b[0m\u001b[1;33m\u001b[0m\u001b[1;33m\u001b[0m\u001b[0m\n\u001b[1;32m--> 880\u001b[1;33m         y = check_array(y, accept_sparse='csr', force_all_finite=True,\n\u001b[0m\u001b[0;32m    881\u001b[0m                         ensure_2d=False, dtype=None)\n\u001b[0;32m    882\u001b[0m     \u001b[1;32melse\u001b[0m\u001b[1;33m:\u001b[0m\u001b[1;33m\u001b[0m\u001b[1;33m\u001b[0m\u001b[0m\n",
      "\u001b[1;32m~\\anaconda4\\lib\\site-packages\\sklearn\\utils\\validation.py\u001b[0m in \u001b[0;36minner_f\u001b[1;34m(*args, **kwargs)\u001b[0m\n\u001b[0;32m     61\u001b[0m             \u001b[0mextra_args\u001b[0m \u001b[1;33m=\u001b[0m \u001b[0mlen\u001b[0m\u001b[1;33m(\u001b[0m\u001b[0margs\u001b[0m\u001b[1;33m)\u001b[0m \u001b[1;33m-\u001b[0m \u001b[0mlen\u001b[0m\u001b[1;33m(\u001b[0m\u001b[0mall_args\u001b[0m\u001b[1;33m)\u001b[0m\u001b[1;33m\u001b[0m\u001b[1;33m\u001b[0m\u001b[0m\n\u001b[0;32m     62\u001b[0m             \u001b[1;32mif\u001b[0m \u001b[0mextra_args\u001b[0m \u001b[1;33m<=\u001b[0m \u001b[1;36m0\u001b[0m\u001b[1;33m:\u001b[0m\u001b[1;33m\u001b[0m\u001b[1;33m\u001b[0m\u001b[0m\n\u001b[1;32m---> 63\u001b[1;33m                 \u001b[1;32mreturn\u001b[0m \u001b[0mf\u001b[0m\u001b[1;33m(\u001b[0m\u001b[1;33m*\u001b[0m\u001b[0margs\u001b[0m\u001b[1;33m,\u001b[0m \u001b[1;33m**\u001b[0m\u001b[0mkwargs\u001b[0m\u001b[1;33m)\u001b[0m\u001b[1;33m\u001b[0m\u001b[1;33m\u001b[0m\u001b[0m\n\u001b[0m\u001b[0;32m     64\u001b[0m \u001b[1;33m\u001b[0m\u001b[0m\n\u001b[0;32m     65\u001b[0m             \u001b[1;31m# extra_args > 0\u001b[0m\u001b[1;33m\u001b[0m\u001b[1;33m\u001b[0m\u001b[0m\n",
      "\u001b[1;32m~\\anaconda4\\lib\\site-packages\\sklearn\\utils\\validation.py\u001b[0m in \u001b[0;36mcheck_array\u001b[1;34m(array, accept_sparse, accept_large_sparse, dtype, order, copy, force_all_finite, ensure_2d, allow_nd, ensure_min_samples, ensure_min_features, estimator)\u001b[0m\n\u001b[0;32m    718\u001b[0m \u001b[1;33m\u001b[0m\u001b[0m\n\u001b[0;32m    719\u001b[0m         \u001b[1;32mif\u001b[0m \u001b[0mforce_all_finite\u001b[0m\u001b[1;33m:\u001b[0m\u001b[1;33m\u001b[0m\u001b[1;33m\u001b[0m\u001b[0m\n\u001b[1;32m--> 720\u001b[1;33m             _assert_all_finite(array,\n\u001b[0m\u001b[0;32m    721\u001b[0m                                allow_nan=force_all_finite == 'allow-nan')\n\u001b[0;32m    722\u001b[0m \u001b[1;33m\u001b[0m\u001b[0m\n",
      "\u001b[1;32m~\\anaconda4\\lib\\site-packages\\sklearn\\utils\\validation.py\u001b[0m in \u001b[0;36m_assert_all_finite\u001b[1;34m(X, allow_nan, msg_dtype)\u001b[0m\n\u001b[0;32m    101\u001b[0m                 not allow_nan and not np.isfinite(X).all()):\n\u001b[0;32m    102\u001b[0m             \u001b[0mtype_err\u001b[0m \u001b[1;33m=\u001b[0m \u001b[1;34m'infinity'\u001b[0m \u001b[1;32mif\u001b[0m \u001b[0mallow_nan\u001b[0m \u001b[1;32melse\u001b[0m \u001b[1;34m'NaN, infinity'\u001b[0m\u001b[1;33m\u001b[0m\u001b[1;33m\u001b[0m\u001b[0m\n\u001b[1;32m--> 103\u001b[1;33m             raise ValueError(\n\u001b[0m\u001b[0;32m    104\u001b[0m                     \u001b[0mmsg_err\u001b[0m\u001b[1;33m.\u001b[0m\u001b[0mformat\u001b[0m\u001b[1;33m\u001b[0m\u001b[1;33m\u001b[0m\u001b[0m\n\u001b[0;32m    105\u001b[0m                     (type_err,\n",
      "\u001b[1;31mValueError\u001b[0m: Input contains NaN, infinity or a value too large for dtype('float64')."
     ]
    }
   ],
   "source": [
    "knn.fit(X_train, y_train)"
   ]
  },
  {
   "cell_type": "markdown",
   "id": "ttTjp05OwKn-",
   "metadata": {
    "id": "ttTjp05OwKn-"
   },
   "source": [
    "# Getting input from questionnaire"
   ]
  },
  {
   "cell_type": "code",
   "execution_count": null,
   "id": "c5IXnncVwXbg",
   "metadata": {
    "id": "c5IXnncVwXbg"
   },
   "outputs": [],
   "source": []
  },
  {
   "cell_type": "markdown",
   "id": "7YAugkUcwWcx",
   "metadata": {
    "id": "7YAugkUcwWcx"
   },
   "source": [
    "# Transforming the data of ONE potential adopter from questionnaire and scaling it\n",
    "we need the same scaler that was used in the model"
   ]
  },
  {
   "cell_type": "code",
   "execution_count": null,
   "id": "6pSAU2wiwSDj",
   "metadata": {
    "id": "6pSAU2wiwSDj"
   },
   "outputs": [],
   "source": []
  },
  {
   "cell_type": "markdown",
   "id": "7ROQmHQuw1ss",
   "metadata": {
    "id": "7ROQmHQuw1ss"
   },
   "source": [
    "# Deriving cartesian product of this adopter with each of our cats\n",
    "\n",
    "pandas.merge(how='cross')\n",
    "\n",
    "at the end we will have a new small table, where the traits of adopter are always the same, but the traits of cats come from our dataset and are different"
   ]
  },
  {
   "cell_type": "code",
   "execution_count": null,
   "id": "2HMlO3YrxJFs",
   "metadata": {
    "id": "2HMlO3YrxJFs"
   },
   "outputs": [],
   "source": []
  },
  {
   "cell_type": "markdown",
   "id": "bkdTmurAxW6m",
   "metadata": {
    "id": "bkdTmurAxW6m"
   },
   "source": [
    "# Predicting satisfaction level for each row"
   ]
  },
  {
   "cell_type": "markdown",
   "id": "6A46QODJx309",
   "metadata": {
    "id": "6A46QODJx309"
   },
   "source": [
    "# Returning the cat's indices and predicted satisfaction level"
   ]
  },
  {
   "cell_type": "code",
   "execution_count": null,
   "id": "Zb6B67bmx-GU",
   "metadata": {
    "id": "Zb6B67bmx-GU"
   },
   "outputs": [],
   "source": []
  }
 ],
 "metadata": {
  "colab": {
   "collapsed_sections": [],
   "name": "Cleaned questionnaire 08.01.ipynb",
   "provenance": []
  },
  "kernelspec": {
   "display_name": "Python 3 (ipykernel)",
   "language": "python",
   "name": "python3"
  },
  "language_info": {
   "codemirror_mode": {
    "name": "ipython",
    "version": 3
   },
   "file_extension": ".py",
   "mimetype": "text/x-python",
   "name": "python",
   "nbconvert_exporter": "python",
   "pygments_lexer": "ipython3",
   "version": "3.9.7"
  }
 },
 "nbformat": 4,
 "nbformat_minor": 5
}
