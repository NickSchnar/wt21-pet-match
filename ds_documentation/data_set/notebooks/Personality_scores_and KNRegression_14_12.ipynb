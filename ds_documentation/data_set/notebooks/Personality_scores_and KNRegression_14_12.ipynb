{
  "cells": [
    {
      "cell_type": "markdown",
      "source": [
        "  ## Libraries"
      ],
      "metadata": {
        "id": "_yzLushd140O"
      },
      "id": "_yzLushd140O"
    },
    {
      "cell_type": "code",
      "source": [
        "# IMPORT THESE FIRST.\n",
        "import numpy as np\n",
        "import pandas as pd\n",
        "import seaborn as sn\n",
        "import matplotlib.pyplot as plt\n",
        "from matplotlib.colors import ListedColormap\n",
        "from sklearn.model_selection import train_test_split\n",
        "from sklearn.neighbors import KNeighborsClassifier, KNeighborsRegressor\n",
        "from sklearn.preprocessing import MinMaxScaler, PolynomialFeatures\n",
        "from sklearn.datasets import (make_classification, make_blobs, load_breast_cancer, make_regression, make_friedman1,\n",
        "                              load_iris)\n",
        "from sklearn.linear_model import LinearRegression, Ridge, Lasso, LogisticRegression\n",
        "from sklearn.svm import SVC, LinearSVC\n",
        "from sklearn.tree import DecisionTreeClassifier, plot_tree\n",
        "from sklearn.model_selection import cross_val_score, validation_curve, train_test_split"
      ],
      "metadata": {
        "id": "F8fYUs0gi-sI"
      },
      "id": "F8fYUs0gi-sI",
      "execution_count": 62,
      "outputs": []
    },
    {
      "cell_type": "code",
      "execution_count": 18,
      "id": "9d36cdad",
      "metadata": {
        "id": "9d36cdad"
      },
      "outputs": [],
      "source": [
        "df = pd.read_excel(\"https://github.com/TechLabs-Berlin/wt21-pet-match/blob/main/data_set/pet-set.xlsx?raw=true\")\n",
        "#df.head()"
      ]
    },
    {
      "cell_type": "markdown",
      "id": "68b5f4ad",
      "metadata": {
        "id": "68b5f4ad"
      },
      "source": [
        "### variable discribing the satisfaction level in percentage"
      ]
    },
    {
      "cell_type": "code",
      "execution_count": 19,
      "id": "1beacb32",
      "metadata": {
        "id": "1beacb32"
      },
      "outputs": [],
      "source": [
        "# replacing strings with numerical values\n",
        "df['expectations'] = df['My cat has met all my expectations'].replace({'Strongly agree': 5, 'Agree': 4, 'Neither agree nor disagree': 3, 'Disagree': 2, 'Strongly disagree': 1})\n",
        "df['happy_owner'] = df['I am happy with my cat'].replace({'Strongly agree': 5, 'Agree': 4, 'Neither agree nor disagree': 3, 'Disagree': 2, 'Strongly disagree': 1})\n",
        "df['happy_cat'] = df['I feel my cat is happy living with me'].replace({'Strongly agree': 5, 'Agree': 4, 'Neither agree nor disagree': 3, 'Disagree': 2, 'Strongly disagree': 1})\n",
        "df['rehome'] = df['I have considered relinquishing or rehoming this cat to someone else'].replace({'Strongly agree': 1, 'Agree': 2, 'Neither agree nor disagree': 3, 'Disagree': 4, 'Strongly disagree': 5})\n",
        "\n",
        "# aggregating final score\n",
        "df['satisf_level'] = (df['expectations'] + df['happy_owner'] + df['happy_cat'] + df['rehome'])/20"
      ]
    },
    {
      "cell_type": "markdown",
      "id": "b7bf45ef",
      "metadata": {
        "id": "b7bf45ef"
      },
      "source": [
        "# Owners / Adopters\n",
        "\n",
        "The aggregarion was made by Hany, all comments also belong to him:)\n",
        "Personality traits grouped in five scores according to BFI:\n",
        "\n",
        "* Extraversion\n",
        "\n",
        "* Agreeableness\n",
        "\n",
        "* Conscientiousness\n",
        "\n",
        "* Neuroticism  (how tense and moody the person )\n",
        "\n",
        "* Creativity"
      ]
    },
    {
      "cell_type": "code",
      "execution_count": 20,
      "id": "ceb775e4",
      "metadata": {
        "id": "ceb775e4"
      },
      "outputs": [],
      "source": [
        "# slice with the BFI relevant adopters data\n",
        "adopters = df.iloc[:, 61:]\n",
        "# remove the NaN , they are text here\n",
        "adopters.replace(\"NaN\",np.nan, inplace =True)\n",
        "adopters.fillna(0,inplace=True)\n",
        "\n",
        "# lisitng the Reverse questions (take care of the numbering)\n",
        "rev_col = adopters.iloc[:,[1,5,7,8,11,17,20,22,23,26,30,33,34,36,40,42]]\n",
        "rev_ques = rev_col.replace({'Agree strongly': 1, 'Agree a little': 2, 'Neither agree nor disagree': 3, 'Disagree a little': 4, 'Disagree strongly': 5})\n",
        "\n",
        "#listing normal questions \n",
        "normal_ques = adopters.drop(columns = rev_col).replace({'Agree strongly': 5, 'Agree a little': 4, 'Neither agree nor disagree': 3, 'Disagree a little': 2, 'Disagree strongly': 1})\n",
        "\n",
        "# make them into one set, \n",
        "adopt_score =  pd.concat([ normal_ques, rev_ques], axis=1)\n",
        "\n",
        "#adopt_score.head()"
      ]
    },
    {
      "cell_type": "markdown",
      "source": [
        "#### note: the code may require some refactoring (working with the bigger set )\n",
        "- **used \"conctinate instade of inplace= True** : with .replace it gets warning \" copy of a slice from a DataFrame\" and the inplace is not fully happpening espically when applaying that for the 2nd time "
      ],
      "metadata": {
        "id": "sx1HsRQEYfJ9"
      },
      "id": "sx1HsRQEYfJ9"
    },
    {
      "cell_type": "markdown",
      "source": [
        "#### clastering (seems little hard coded, due to the use of concatinate)\n",
        "\n",
        "- rules (all them are re-aggranged as follows)\n",
        "Extraversion:(8 questions) 1, 6R, 11, 16, 21R, 26, 31R, 36\n",
        "Agreeableness: (9 questions)2R, 7, 12R, 17, 22, 27R, 32, 37R, 42 ## high no = high agreebleness \n",
        "Conscientiousness: (9 questions)3, 8R, 13, 18R, 23R, 28, 33, 38, 43R\n",
        "Neuroticism:(8 questions) 4, 9R, 14, 19, 24R, 29, 34R, 39\n",
        "Openness: (10 ques )5, 10, 15, 20, 25, 30, 35R, 40, 41R, 44 "
      ],
      "metadata": {
        "id": "jWkpmm_NYk8y"
      },
      "id": "jWkpmm_NYk8y"
    },
    {
      "cell_type": "code",
      "source": [
        "# arrange them for better reading.\n",
        "\n",
        "\n",
        "extraversion = adopt_score.iloc[:,[0,29,6,10,34,16,38,22]]          ##Extraversion\n",
        "\n",
        "agreeableness = adopt_score.iloc[:,[28,4,32,11,14,37,20,41,26]]     ##Agreeableness\n",
        "\n",
        "conscientiousness = adopt_score.iloc[:,[1,30,7,33,35,17,21,23,43]]  ##Conscientiousness\n",
        "\n",
        "neuroticism = adopt_score.iloc[:,[2,31,8,12,36,18,39,24]]                 ##Neuroticism  (how tense and moody the person )\n",
        "\n",
        "creativity = adopt_score.iloc[:,[3,5,9,13,15,19,40,25,42,-1]]      ## openess & creativity\n",
        "\n",
        "\n",
        "## putting them into columns with precenatges (it can be added to any df )\n",
        "\n",
        "adopt_score[\"extraversion\"] =extraversion.sum(axis=1)/(len(extraversion.columns)*5)\n",
        "adopt_score[\"easy_going\"] =agreeableness.sum(axis=1)/(len(agreeableness.columns)*5)\n",
        "adopt_score[\"diligent\"] =conscientiousness.sum(axis=1)/(len(conscientiousness.columns)*5)\n",
        "adopt_score[\"moody_tense\"] =neuroticism.sum(axis=1)/(len(neuroticism.columns)*5)\n",
        "adopt_score[\"creative\"] =creativity.sum(axis=1)/(len(creativity.columns)*5)\n",
        "\n",
        "adopt_scores_only = adopt_score[[\"extraversion\", \"easy_going\", \"diligent\", \"moody_tense\", \"creative\"]]"
      ],
      "metadata": {
        "id": "32rZkTk8YZkD"
      },
      "id": "32rZkTk8YZkD",
      "execution_count": 21,
      "outputs": []
    },
    {
      "cell_type": "code",
      "source": [
        "#adopt_scores_only.head(3)"
      ],
      "metadata": {
        "id": "RAQI0i5fY95s"
      },
      "id": "RAQI0i5fY95s",
      "execution_count": 22,
      "outputs": []
    },
    {
      "cell_type": "markdown",
      "source": [
        "# Cats\n",
        "\n",
        "Grouping cats into 4 personalitiy-Cluster performed by Dayo, I changed it a bit so that we get comparable scores for cats and adopters.\n",
        "\n",
        "* PC1: Gregariousness (confident, friendly, interactive\n",
        "\n",
        "* PC: Aggressiveness (agonistic when handled or interacted with)\n",
        "\n",
        "* PC: Aloofness/avoidance(avoidant of interaction, not friendly\n",
        "\n",
        "* PC4: Anxiousness/fearfulness (wary of novel/less familiarpeople)\n"
      ],
      "metadata": {
        "id": "2PmIax05Z1nH"
      },
      "id": "2PmIax05Z1nH"
    },
    {
      "cell_type": "code",
      "source": [
        "cats_pc = df.iloc[:, 26 : 54]\n",
        "# remove the NaN , they are text here\n",
        "cats_pc.replace(\"NaN\",np.nan, inplace =True)\n",
        "cats_pc.fillna(0,inplace=True)\n",
        "\n",
        "# listing the Reverse questions (take care of the numbering)\n",
        "rev_col_c = cats_pc.iloc[:,[9,16,18,19,20,27]].rename(columns = {\"My cat comes and asks me for attention and initiates contact with me (e.g. the cat comes and sits on my knee, or rubs up against me and around me, in order to receive fuss/strokes/chin/cheek tickles)\": 'REVERSED My cat comes and asks me for attention and initiates contact with me',\n",
        "                                          'My cat is timid': 'REVERSED My cat is timid',\n",
        "                                          'My cat likes being stroked': 'REVERSED My cat likes being stroked',\n",
        "                                          'My cat is very tolerant to being handled': 'REVERSED My cat is very tolerant to being handled',\n",
        "                                          'My cat is fearful': 'REVERSED My cat is fearful',\n",
        "                                          'My cat would prefer to be left alone, rather than be with people': 'REVERSED My cat would prefer to be left alone, rather than be with people'})\n",
        "rev_ques_c = rev_col_c.replace({'Strongly disagree': 5, 'Never': 5, 'Disagree': 4, 'Once': 4, 'Neither agree nor disagree': 3, 'Occasionally': 3, 'Agree': 2, 'Usually': 2, 'Strongly agree': 1, 'Always': 1})\n",
        "\n",
        "#listing normal questions \n",
        "normal_ques_c = cats_pc.replace({'Strongly disagree': 1, 'Never': 1, 'Disagree': 2, 'Once': 2, 'Neither agree nor disagree': 3, 'Occasionally': 3, 'Agree': 4, 'Usually': 4, 'Strongly agree': 5, 'Always': 5}).drop(columns=cats_pc.iloc[:, [18, 19, 22]])\n",
        "\n",
        "# make them into one set, \n",
        "cats_score =  pd.concat([normal_ques_c, rev_ques_c], axis=1)\n",
        "\n",
        "# grouping\n",
        "gregariousness = cats_score.iloc[:,[0,1,2,9,15,17,18,23,24,26,27]] #Gregariousness (confident, friendly, interactive)\n",
        "aggressiveness = cats_score.iloc[:,[3,7,10,11,12,13,29]] #Aggressiveness (agonistic when handled or interacted with)\n",
        "avoidance = cats_score.iloc[:,[4,5,6,8,14,19,25,28]] #Aloofness/avoidance(avoidant of interaction, not friendly)\n",
        "anxiousness = cats_score.iloc[:,[16,20,21,22,24,]] #Anxiousness/fearfulness (wary of novel/less familiarpeople)\n",
        "\n",
        "# aggregating to percentages\n",
        "cats_score[\"friendly\"] =gregariousness.sum(axis=1)/(len(gregariousness.columns)*5)\n",
        "cats_score[\"agressive\"] =aggressiveness.sum(axis=1)/(len(aggressiveness.columns)*5)\n",
        "cats_score[\"avoidant\"] =avoidance.sum(axis=1)/(len(avoidance.columns)*5)\n",
        "cats_score[\"anxious\"] =anxiousness.sum(axis=1)/(len(anxiousness.columns)*5)\n",
        "\n",
        "cats_scores_only = cats_score[[\"friendly\",\"agressive\", \"avoidant\", \"anxious\"]]"
      ],
      "metadata": {
        "id": "vMu5bjCJxNZk"
      },
      "id": "vMu5bjCJxNZk",
      "execution_count": 23,
      "outputs": []
    },
    {
      "cell_type": "code",
      "source": [
        "df_scores = pd.concat([cats_scores_only, adopt_scores_only, df[\"satisf_level\"]], axis=1)\n",
        "#df_scores.head(3)"
      ],
      "metadata": {
        "id": "aWz1wM1Gxsq5"
      },
      "id": "aWz1wM1Gxsq5",
      "execution_count": 24,
      "outputs": []
    },
    {
      "cell_type": "markdown",
      "source": [
        "# Three datasets with scores only:\n",
        "\n",
        "* adopt_scores_only: personality scores of potential adopters\n",
        "* cats_scores_only: cats' personality scores\n",
        "* df_scores: cats' and owners' scores + satisfaction level"
      ],
      "metadata": {
        "id": "eHVI7hFB0rlM"
      },
      "id": "eHVI7hFB0rlM"
    },
    {
      "cell_type": "code",
      "source": [
        "adopt_scores_only.head(5)"
      ],
      "metadata": {
        "colab": {
          "base_uri": "https://localhost:8080/",
          "height": 204
        },
        "id": "0n59USpT1cxM",
        "outputId": "74612091-72fe-482c-826a-1f9b3df65ebe"
      },
      "id": "0n59USpT1cxM",
      "execution_count": 25,
      "outputs": [
        {
          "output_type": "execute_result",
          "data": {
            "text/html": [
              "\n",
              "  <div id=\"df-00564ac0-1650-4ef0-bb8d-846d9fca2de9\">\n",
              "    <div class=\"colab-df-container\">\n",
              "      <div>\n",
              "<style scoped>\n",
              "    .dataframe tbody tr th:only-of-type {\n",
              "        vertical-align: middle;\n",
              "    }\n",
              "\n",
              "    .dataframe tbody tr th {\n",
              "        vertical-align: top;\n",
              "    }\n",
              "\n",
              "    .dataframe thead th {\n",
              "        text-align: right;\n",
              "    }\n",
              "</style>\n",
              "<table border=\"1\" class=\"dataframe\">\n",
              "  <thead>\n",
              "    <tr style=\"text-align: right;\">\n",
              "      <th></th>\n",
              "      <th>extraversion</th>\n",
              "      <th>easy_going</th>\n",
              "      <th>diligent</th>\n",
              "      <th>moody_tense</th>\n",
              "      <th>creative</th>\n",
              "    </tr>\n",
              "  </thead>\n",
              "  <tbody>\n",
              "    <tr>\n",
              "      <th>0</th>\n",
              "      <td>0.675</td>\n",
              "      <td>0.822222</td>\n",
              "      <td>0.711111</td>\n",
              "      <td>0.700</td>\n",
              "      <td>0.64</td>\n",
              "    </tr>\n",
              "    <tr>\n",
              "      <th>1</th>\n",
              "      <td>0.675</td>\n",
              "      <td>0.800000</td>\n",
              "      <td>0.800000</td>\n",
              "      <td>0.750</td>\n",
              "      <td>0.78</td>\n",
              "    </tr>\n",
              "    <tr>\n",
              "      <th>2</th>\n",
              "      <td>0.625</td>\n",
              "      <td>0.418889</td>\n",
              "      <td>0.466667</td>\n",
              "      <td>0.600</td>\n",
              "      <td>0.28</td>\n",
              "    </tr>\n",
              "    <tr>\n",
              "      <th>3</th>\n",
              "      <td>0.575</td>\n",
              "      <td>0.800000</td>\n",
              "      <td>0.577778</td>\n",
              "      <td>0.925</td>\n",
              "      <td>0.72</td>\n",
              "    </tr>\n",
              "    <tr>\n",
              "      <th>4</th>\n",
              "      <td>0.575</td>\n",
              "      <td>0.733333</td>\n",
              "      <td>0.666667</td>\n",
              "      <td>0.675</td>\n",
              "      <td>0.58</td>\n",
              "    </tr>\n",
              "  </tbody>\n",
              "</table>\n",
              "</div>\n",
              "      <button class=\"colab-df-convert\" onclick=\"convertToInteractive('df-00564ac0-1650-4ef0-bb8d-846d9fca2de9')\"\n",
              "              title=\"Convert this dataframe to an interactive table.\"\n",
              "              style=\"display:none;\">\n",
              "        \n",
              "  <svg xmlns=\"http://www.w3.org/2000/svg\" height=\"24px\"viewBox=\"0 0 24 24\"\n",
              "       width=\"24px\">\n",
              "    <path d=\"M0 0h24v24H0V0z\" fill=\"none\"/>\n",
              "    <path d=\"M18.56 5.44l.94 2.06.94-2.06 2.06-.94-2.06-.94-.94-2.06-.94 2.06-2.06.94zm-11 1L8.5 8.5l.94-2.06 2.06-.94-2.06-.94L8.5 2.5l-.94 2.06-2.06.94zm10 10l.94 2.06.94-2.06 2.06-.94-2.06-.94-.94-2.06-.94 2.06-2.06.94z\"/><path d=\"M17.41 7.96l-1.37-1.37c-.4-.4-.92-.59-1.43-.59-.52 0-1.04.2-1.43.59L10.3 9.45l-7.72 7.72c-.78.78-.78 2.05 0 2.83L4 21.41c.39.39.9.59 1.41.59.51 0 1.02-.2 1.41-.59l7.78-7.78 2.81-2.81c.8-.78.8-2.07 0-2.86zM5.41 20L4 18.59l7.72-7.72 1.47 1.35L5.41 20z\"/>\n",
              "  </svg>\n",
              "      </button>\n",
              "      \n",
              "  <style>\n",
              "    .colab-df-container {\n",
              "      display:flex;\n",
              "      flex-wrap:wrap;\n",
              "      gap: 12px;\n",
              "    }\n",
              "\n",
              "    .colab-df-convert {\n",
              "      background-color: #E8F0FE;\n",
              "      border: none;\n",
              "      border-radius: 50%;\n",
              "      cursor: pointer;\n",
              "      display: none;\n",
              "      fill: #1967D2;\n",
              "      height: 32px;\n",
              "      padding: 0 0 0 0;\n",
              "      width: 32px;\n",
              "    }\n",
              "\n",
              "    .colab-df-convert:hover {\n",
              "      background-color: #E2EBFA;\n",
              "      box-shadow: 0px 1px 2px rgba(60, 64, 67, 0.3), 0px 1px 3px 1px rgba(60, 64, 67, 0.15);\n",
              "      fill: #174EA6;\n",
              "    }\n",
              "\n",
              "    [theme=dark] .colab-df-convert {\n",
              "      background-color: #3B4455;\n",
              "      fill: #D2E3FC;\n",
              "    }\n",
              "\n",
              "    [theme=dark] .colab-df-convert:hover {\n",
              "      background-color: #434B5C;\n",
              "      box-shadow: 0px 1px 3px 1px rgba(0, 0, 0, 0.15);\n",
              "      filter: drop-shadow(0px 1px 2px rgba(0, 0, 0, 0.3));\n",
              "      fill: #FFFFFF;\n",
              "    }\n",
              "  </style>\n",
              "\n",
              "      <script>\n",
              "        const buttonEl =\n",
              "          document.querySelector('#df-00564ac0-1650-4ef0-bb8d-846d9fca2de9 button.colab-df-convert');\n",
              "        buttonEl.style.display =\n",
              "          google.colab.kernel.accessAllowed ? 'block' : 'none';\n",
              "\n",
              "        async function convertToInteractive(key) {\n",
              "          const element = document.querySelector('#df-00564ac0-1650-4ef0-bb8d-846d9fca2de9');\n",
              "          const dataTable =\n",
              "            await google.colab.kernel.invokeFunction('convertToInteractive',\n",
              "                                                     [key], {});\n",
              "          if (!dataTable) return;\n",
              "\n",
              "          const docLinkHtml = 'Like what you see? Visit the ' +\n",
              "            '<a target=\"_blank\" href=https://colab.research.google.com/notebooks/data_table.ipynb>data table notebook</a>'\n",
              "            + ' to learn more about interactive tables.';\n",
              "          element.innerHTML = '';\n",
              "          dataTable['output_type'] = 'display_data';\n",
              "          await google.colab.output.renderOutput(dataTable, element);\n",
              "          const docLink = document.createElement('div');\n",
              "          docLink.innerHTML = docLinkHtml;\n",
              "          element.appendChild(docLink);\n",
              "        }\n",
              "      </script>\n",
              "    </div>\n",
              "  </div>\n",
              "  "
            ],
            "text/plain": [
              "   extraversion  easy_going  diligent  moody_tense  creative\n",
              "0         0.675    0.822222  0.711111        0.700      0.64\n",
              "1         0.675    0.800000  0.800000        0.750      0.78\n",
              "2         0.625    0.418889  0.466667        0.600      0.28\n",
              "3         0.575    0.800000  0.577778        0.925      0.72\n",
              "4         0.575    0.733333  0.666667        0.675      0.58"
            ]
          },
          "metadata": {},
          "execution_count": 25
        }
      ]
    },
    {
      "cell_type": "code",
      "source": [
        "cats_scores_only.head(5)"
      ],
      "metadata": {
        "colab": {
          "base_uri": "https://localhost:8080/",
          "height": 204
        },
        "id": "W9gd1Bbe1_2S",
        "outputId": "2a1a93fd-cf5e-4e57-b61c-a7a50a585680"
      },
      "id": "W9gd1Bbe1_2S",
      "execution_count": 26,
      "outputs": [
        {
          "output_type": "execute_result",
          "data": {
            "text/html": [
              "\n",
              "  <div id=\"df-3ace847a-e069-40a8-a8de-5863ba36fbfe\">\n",
              "    <div class=\"colab-df-container\">\n",
              "      <div>\n",
              "<style scoped>\n",
              "    .dataframe tbody tr th:only-of-type {\n",
              "        vertical-align: middle;\n",
              "    }\n",
              "\n",
              "    .dataframe tbody tr th {\n",
              "        vertical-align: top;\n",
              "    }\n",
              "\n",
              "    .dataframe thead th {\n",
              "        text-align: right;\n",
              "    }\n",
              "</style>\n",
              "<table border=\"1\" class=\"dataframe\">\n",
              "  <thead>\n",
              "    <tr style=\"text-align: right;\">\n",
              "      <th></th>\n",
              "      <th>friendly</th>\n",
              "      <th>agressive</th>\n",
              "      <th>avoidant</th>\n",
              "      <th>anxious</th>\n",
              "    </tr>\n",
              "  </thead>\n",
              "  <tbody>\n",
              "    <tr>\n",
              "      <th>0</th>\n",
              "      <td>0.690909</td>\n",
              "      <td>0.314286</td>\n",
              "      <td>0.650</td>\n",
              "      <td>0.68</td>\n",
              "    </tr>\n",
              "    <tr>\n",
              "      <th>1</th>\n",
              "      <td>0.654545</td>\n",
              "      <td>0.571429</td>\n",
              "      <td>0.475</td>\n",
              "      <td>0.60</td>\n",
              "    </tr>\n",
              "    <tr>\n",
              "      <th>2</th>\n",
              "      <td>0.654545</td>\n",
              "      <td>0.514286</td>\n",
              "      <td>0.700</td>\n",
              "      <td>0.64</td>\n",
              "    </tr>\n",
              "    <tr>\n",
              "      <th>3</th>\n",
              "      <td>0.727273</td>\n",
              "      <td>0.371429</td>\n",
              "      <td>0.450</td>\n",
              "      <td>0.84</td>\n",
              "    </tr>\n",
              "    <tr>\n",
              "      <th>4</th>\n",
              "      <td>0.709091</td>\n",
              "      <td>0.342857</td>\n",
              "      <td>0.550</td>\n",
              "      <td>0.76</td>\n",
              "    </tr>\n",
              "  </tbody>\n",
              "</table>\n",
              "</div>\n",
              "      <button class=\"colab-df-convert\" onclick=\"convertToInteractive('df-3ace847a-e069-40a8-a8de-5863ba36fbfe')\"\n",
              "              title=\"Convert this dataframe to an interactive table.\"\n",
              "              style=\"display:none;\">\n",
              "        \n",
              "  <svg xmlns=\"http://www.w3.org/2000/svg\" height=\"24px\"viewBox=\"0 0 24 24\"\n",
              "       width=\"24px\">\n",
              "    <path d=\"M0 0h24v24H0V0z\" fill=\"none\"/>\n",
              "    <path d=\"M18.56 5.44l.94 2.06.94-2.06 2.06-.94-2.06-.94-.94-2.06-.94 2.06-2.06.94zm-11 1L8.5 8.5l.94-2.06 2.06-.94-2.06-.94L8.5 2.5l-.94 2.06-2.06.94zm10 10l.94 2.06.94-2.06 2.06-.94-2.06-.94-.94-2.06-.94 2.06-2.06.94z\"/><path d=\"M17.41 7.96l-1.37-1.37c-.4-.4-.92-.59-1.43-.59-.52 0-1.04.2-1.43.59L10.3 9.45l-7.72 7.72c-.78.78-.78 2.05 0 2.83L4 21.41c.39.39.9.59 1.41.59.51 0 1.02-.2 1.41-.59l7.78-7.78 2.81-2.81c.8-.78.8-2.07 0-2.86zM5.41 20L4 18.59l7.72-7.72 1.47 1.35L5.41 20z\"/>\n",
              "  </svg>\n",
              "      </button>\n",
              "      \n",
              "  <style>\n",
              "    .colab-df-container {\n",
              "      display:flex;\n",
              "      flex-wrap:wrap;\n",
              "      gap: 12px;\n",
              "    }\n",
              "\n",
              "    .colab-df-convert {\n",
              "      background-color: #E8F0FE;\n",
              "      border: none;\n",
              "      border-radius: 50%;\n",
              "      cursor: pointer;\n",
              "      display: none;\n",
              "      fill: #1967D2;\n",
              "      height: 32px;\n",
              "      padding: 0 0 0 0;\n",
              "      width: 32px;\n",
              "    }\n",
              "\n",
              "    .colab-df-convert:hover {\n",
              "      background-color: #E2EBFA;\n",
              "      box-shadow: 0px 1px 2px rgba(60, 64, 67, 0.3), 0px 1px 3px 1px rgba(60, 64, 67, 0.15);\n",
              "      fill: #174EA6;\n",
              "    }\n",
              "\n",
              "    [theme=dark] .colab-df-convert {\n",
              "      background-color: #3B4455;\n",
              "      fill: #D2E3FC;\n",
              "    }\n",
              "\n",
              "    [theme=dark] .colab-df-convert:hover {\n",
              "      background-color: #434B5C;\n",
              "      box-shadow: 0px 1px 3px 1px rgba(0, 0, 0, 0.15);\n",
              "      filter: drop-shadow(0px 1px 2px rgba(0, 0, 0, 0.3));\n",
              "      fill: #FFFFFF;\n",
              "    }\n",
              "  </style>\n",
              "\n",
              "      <script>\n",
              "        const buttonEl =\n",
              "          document.querySelector('#df-3ace847a-e069-40a8-a8de-5863ba36fbfe button.colab-df-convert');\n",
              "        buttonEl.style.display =\n",
              "          google.colab.kernel.accessAllowed ? 'block' : 'none';\n",
              "\n",
              "        async function convertToInteractive(key) {\n",
              "          const element = document.querySelector('#df-3ace847a-e069-40a8-a8de-5863ba36fbfe');\n",
              "          const dataTable =\n",
              "            await google.colab.kernel.invokeFunction('convertToInteractive',\n",
              "                                                     [key], {});\n",
              "          if (!dataTable) return;\n",
              "\n",
              "          const docLinkHtml = 'Like what you see? Visit the ' +\n",
              "            '<a target=\"_blank\" href=https://colab.research.google.com/notebooks/data_table.ipynb>data table notebook</a>'\n",
              "            + ' to learn more about interactive tables.';\n",
              "          element.innerHTML = '';\n",
              "          dataTable['output_type'] = 'display_data';\n",
              "          await google.colab.output.renderOutput(dataTable, element);\n",
              "          const docLink = document.createElement('div');\n",
              "          docLink.innerHTML = docLinkHtml;\n",
              "          element.appendChild(docLink);\n",
              "        }\n",
              "      </script>\n",
              "    </div>\n",
              "  </div>\n",
              "  "
            ],
            "text/plain": [
              "   friendly  agressive  avoidant  anxious\n",
              "0  0.690909   0.314286     0.650     0.68\n",
              "1  0.654545   0.571429     0.475     0.60\n",
              "2  0.654545   0.514286     0.700     0.64\n",
              "3  0.727273   0.371429     0.450     0.84\n",
              "4  0.709091   0.342857     0.550     0.76"
            ]
          },
          "metadata": {},
          "execution_count": 26
        }
      ]
    },
    {
      "cell_type": "code",
      "source": [
        "df_scores.head(5)"
      ],
      "metadata": {
        "id": "yqvS-CHq2Yvc",
        "outputId": "018b6f00-7e73-4289-844e-76e9918d2295",
        "colab": {
          "base_uri": "https://localhost:8080/",
          "height": 204
        }
      },
      "id": "yqvS-CHq2Yvc",
      "execution_count": 27,
      "outputs": [
        {
          "output_type": "execute_result",
          "data": {
            "text/html": [
              "\n",
              "  <div id=\"df-288c1e71-b7a5-42dc-8867-4d0bb6514d6f\">\n",
              "    <div class=\"colab-df-container\">\n",
              "      <div>\n",
              "<style scoped>\n",
              "    .dataframe tbody tr th:only-of-type {\n",
              "        vertical-align: middle;\n",
              "    }\n",
              "\n",
              "    .dataframe tbody tr th {\n",
              "        vertical-align: top;\n",
              "    }\n",
              "\n",
              "    .dataframe thead th {\n",
              "        text-align: right;\n",
              "    }\n",
              "</style>\n",
              "<table border=\"1\" class=\"dataframe\">\n",
              "  <thead>\n",
              "    <tr style=\"text-align: right;\">\n",
              "      <th></th>\n",
              "      <th>friendly</th>\n",
              "      <th>agressive</th>\n",
              "      <th>avoidant</th>\n",
              "      <th>anxious</th>\n",
              "      <th>extraversion</th>\n",
              "      <th>easy_going</th>\n",
              "      <th>diligent</th>\n",
              "      <th>moody_tense</th>\n",
              "      <th>creative</th>\n",
              "      <th>satisf_level</th>\n",
              "    </tr>\n",
              "  </thead>\n",
              "  <tbody>\n",
              "    <tr>\n",
              "      <th>0</th>\n",
              "      <td>0.690909</td>\n",
              "      <td>0.314286</td>\n",
              "      <td>0.650</td>\n",
              "      <td>0.68</td>\n",
              "      <td>0.675</td>\n",
              "      <td>0.822222</td>\n",
              "      <td>0.711111</td>\n",
              "      <td>0.700</td>\n",
              "      <td>0.64</td>\n",
              "      <td>1.00</td>\n",
              "    </tr>\n",
              "    <tr>\n",
              "      <th>1</th>\n",
              "      <td>0.654545</td>\n",
              "      <td>0.571429</td>\n",
              "      <td>0.475</td>\n",
              "      <td>0.60</td>\n",
              "      <td>0.675</td>\n",
              "      <td>0.800000</td>\n",
              "      <td>0.800000</td>\n",
              "      <td>0.750</td>\n",
              "      <td>0.78</td>\n",
              "      <td>1.00</td>\n",
              "    </tr>\n",
              "    <tr>\n",
              "      <th>2</th>\n",
              "      <td>0.654545</td>\n",
              "      <td>0.514286</td>\n",
              "      <td>0.700</td>\n",
              "      <td>0.64</td>\n",
              "      <td>0.625</td>\n",
              "      <td>0.418889</td>\n",
              "      <td>0.466667</td>\n",
              "      <td>0.600</td>\n",
              "      <td>0.28</td>\n",
              "      <td>0.85</td>\n",
              "    </tr>\n",
              "    <tr>\n",
              "      <th>3</th>\n",
              "      <td>0.727273</td>\n",
              "      <td>0.371429</td>\n",
              "      <td>0.450</td>\n",
              "      <td>0.84</td>\n",
              "      <td>0.575</td>\n",
              "      <td>0.800000</td>\n",
              "      <td>0.577778</td>\n",
              "      <td>0.925</td>\n",
              "      <td>0.72</td>\n",
              "      <td>1.00</td>\n",
              "    </tr>\n",
              "    <tr>\n",
              "      <th>4</th>\n",
              "      <td>0.709091</td>\n",
              "      <td>0.342857</td>\n",
              "      <td>0.550</td>\n",
              "      <td>0.76</td>\n",
              "      <td>0.575</td>\n",
              "      <td>0.733333</td>\n",
              "      <td>0.666667</td>\n",
              "      <td>0.675</td>\n",
              "      <td>0.58</td>\n",
              "      <td>1.00</td>\n",
              "    </tr>\n",
              "  </tbody>\n",
              "</table>\n",
              "</div>\n",
              "      <button class=\"colab-df-convert\" onclick=\"convertToInteractive('df-288c1e71-b7a5-42dc-8867-4d0bb6514d6f')\"\n",
              "              title=\"Convert this dataframe to an interactive table.\"\n",
              "              style=\"display:none;\">\n",
              "        \n",
              "  <svg xmlns=\"http://www.w3.org/2000/svg\" height=\"24px\"viewBox=\"0 0 24 24\"\n",
              "       width=\"24px\">\n",
              "    <path d=\"M0 0h24v24H0V0z\" fill=\"none\"/>\n",
              "    <path d=\"M18.56 5.44l.94 2.06.94-2.06 2.06-.94-2.06-.94-.94-2.06-.94 2.06-2.06.94zm-11 1L8.5 8.5l.94-2.06 2.06-.94-2.06-.94L8.5 2.5l-.94 2.06-2.06.94zm10 10l.94 2.06.94-2.06 2.06-.94-2.06-.94-.94-2.06-.94 2.06-2.06.94z\"/><path d=\"M17.41 7.96l-1.37-1.37c-.4-.4-.92-.59-1.43-.59-.52 0-1.04.2-1.43.59L10.3 9.45l-7.72 7.72c-.78.78-.78 2.05 0 2.83L4 21.41c.39.39.9.59 1.41.59.51 0 1.02-.2 1.41-.59l7.78-7.78 2.81-2.81c.8-.78.8-2.07 0-2.86zM5.41 20L4 18.59l7.72-7.72 1.47 1.35L5.41 20z\"/>\n",
              "  </svg>\n",
              "      </button>\n",
              "      \n",
              "  <style>\n",
              "    .colab-df-container {\n",
              "      display:flex;\n",
              "      flex-wrap:wrap;\n",
              "      gap: 12px;\n",
              "    }\n",
              "\n",
              "    .colab-df-convert {\n",
              "      background-color: #E8F0FE;\n",
              "      border: none;\n",
              "      border-radius: 50%;\n",
              "      cursor: pointer;\n",
              "      display: none;\n",
              "      fill: #1967D2;\n",
              "      height: 32px;\n",
              "      padding: 0 0 0 0;\n",
              "      width: 32px;\n",
              "    }\n",
              "\n",
              "    .colab-df-convert:hover {\n",
              "      background-color: #E2EBFA;\n",
              "      box-shadow: 0px 1px 2px rgba(60, 64, 67, 0.3), 0px 1px 3px 1px rgba(60, 64, 67, 0.15);\n",
              "      fill: #174EA6;\n",
              "    }\n",
              "\n",
              "    [theme=dark] .colab-df-convert {\n",
              "      background-color: #3B4455;\n",
              "      fill: #D2E3FC;\n",
              "    }\n",
              "\n",
              "    [theme=dark] .colab-df-convert:hover {\n",
              "      background-color: #434B5C;\n",
              "      box-shadow: 0px 1px 3px 1px rgba(0, 0, 0, 0.15);\n",
              "      filter: drop-shadow(0px 1px 2px rgba(0, 0, 0, 0.3));\n",
              "      fill: #FFFFFF;\n",
              "    }\n",
              "  </style>\n",
              "\n",
              "      <script>\n",
              "        const buttonEl =\n",
              "          document.querySelector('#df-288c1e71-b7a5-42dc-8867-4d0bb6514d6f button.colab-df-convert');\n",
              "        buttonEl.style.display =\n",
              "          google.colab.kernel.accessAllowed ? 'block' : 'none';\n",
              "\n",
              "        async function convertToInteractive(key) {\n",
              "          const element = document.querySelector('#df-288c1e71-b7a5-42dc-8867-4d0bb6514d6f');\n",
              "          const dataTable =\n",
              "            await google.colab.kernel.invokeFunction('convertToInteractive',\n",
              "                                                     [key], {});\n",
              "          if (!dataTable) return;\n",
              "\n",
              "          const docLinkHtml = 'Like what you see? Visit the ' +\n",
              "            '<a target=\"_blank\" href=https://colab.research.google.com/notebooks/data_table.ipynb>data table notebook</a>'\n",
              "            + ' to learn more about interactive tables.';\n",
              "          element.innerHTML = '';\n",
              "          dataTable['output_type'] = 'display_data';\n",
              "          await google.colab.output.renderOutput(dataTable, element);\n",
              "          const docLink = document.createElement('div');\n",
              "          docLink.innerHTML = docLinkHtml;\n",
              "          element.appendChild(docLink);\n",
              "        }\n",
              "      </script>\n",
              "    </div>\n",
              "  </div>\n",
              "  "
            ],
            "text/plain": [
              "   friendly  agressive  avoidant  ...  moody_tense  creative  satisf_level\n",
              "0  0.690909   0.314286     0.650  ...        0.700      0.64          1.00\n",
              "1  0.654545   0.571429     0.475  ...        0.750      0.78          1.00\n",
              "2  0.654545   0.514286     0.700  ...        0.600      0.28          0.85\n",
              "3  0.727273   0.371429     0.450  ...        0.925      0.72          1.00\n",
              "4  0.709091   0.342857     0.550  ...        0.675      0.58          1.00\n",
              "\n",
              "[5 rows x 10 columns]"
            ]
          },
          "metadata": {},
          "execution_count": 27
        }
      ]
    },
    {
      "cell_type": "code",
      "source": [
        "df_scores.isna().value_counts()"
      ],
      "metadata": {
        "colab": {
          "base_uri": "https://localhost:8080/"
        },
        "id": "RSrb7zGHhQw9",
        "outputId": "c93f9c74-47a7-4b64-ee4b-96ead4826aee"
      },
      "id": "RSrb7zGHhQw9",
      "execution_count": 48,
      "outputs": [
        {
          "output_type": "execute_result",
          "data": {
            "text/plain": [
              "friendly  agressive  avoidant  anxious  extraversion  easy_going  diligent  moody_tense  creative  satisf_level\n",
              "False     False      False     False    False         False       False     False        False     False           3248\n",
              "                                                                                                   True              83\n",
              "dtype: int64"
            ]
          },
          "metadata": {},
          "execution_count": 48
        }
      ]
    },
    {
      "cell_type": "markdown",
      "source": [
        "# Clustering KNN"
      ],
      "metadata": {
        "id": "_LDjTiX6Va22"
      },
      "id": "_LDjTiX6Va22"
    },
    {
      "cell_type": "code",
      "source": [
        "from sklearn.cluster import KMeans\n",
        "from sklearn.preprocessing import LabelEncoder\n",
        "from sklearn.model_selection import train_test_split"
      ],
      "metadata": {
        "id": "JJ7j4RieVaRU"
      },
      "id": "JJ7j4RieVaRU",
      "execution_count": 28,
      "outputs": []
    },
    {
      "cell_type": "markdown",
      "source": [
        "X - cats_scores_only"
      ],
      "metadata": {
        "id": "sDV4E53zfqfS"
      },
      "id": "sDV4E53zfqfS"
    },
    {
      "cell_type": "code",
      "source": [
        "df_1 = df_scores.dropna()"
      ],
      "metadata": {
        "id": "m_RU31CrhgXb"
      },
      "id": "m_RU31CrhgXb",
      "execution_count": 51,
      "outputs": []
    },
    {
      "cell_type": "code",
      "source": [
        "x_cats = df_1[['friendly', 'agressive', 'avoidant', 'anxious']]\n",
        "y_cats = df_1['satisf_level']"
      ],
      "metadata": {
        "id": "LEmatEBreKW_"
      },
      "id": "LEmatEBreKW_",
      "execution_count": 52,
      "outputs": []
    },
    {
      "cell_type": "code",
      "source": [
        "X_train, X_test, y_train, y_test = train_test_split(x_cats, y_cats, random_state=0)"
      ],
      "metadata": {
        "id": "UaDkPsFUf8Ba"
      },
      "id": "UaDkPsFUf8Ba",
      "execution_count": 53,
      "outputs": []
    },
    {
      "cell_type": "code",
      "source": [
        "scaler = MinMaxScaler()\n",
        "X_train_scaled = scaler.fit_transform(X_train)\n",
        "# we must apply the scaling to the test set that we computed for the training set\n",
        "X_test_scaled = scaler.transform(X_test)"
      ],
      "metadata": {
        "id": "CZcvMd9Icfb2"
      },
      "id": "CZcvMd9Icfb2",
      "execution_count": 54,
      "outputs": []
    },
    {
      "cell_type": "code",
      "source": [
        "from sklearn.neighbors import KNeighborsClassifier, KNeighborsRegressor\n",
        "from sklearn.preprocessing import MinMaxScaler, PolynomialFeatures\n"
      ],
      "metadata": {
        "id": "b3ybKZB1gipT"
      },
      "id": "b3ybKZB1gipT",
      "execution_count": 55,
      "outputs": []
    },
    {
      "cell_type": "code",
      "source": [
        "knnreg = KNeighborsRegressor(n_neighbors = 5).fit(X_train, y_train)"
      ],
      "metadata": {
        "id": "leZbM-yGgXIR"
      },
      "id": "leZbM-yGgXIR",
      "execution_count": 58,
      "outputs": []
    },
    {
      "cell_type": "code",
      "source": [
        ""
      ],
      "metadata": {
        "id": "7LoZt_eYi6sy"
      },
      "id": "7LoZt_eYi6sy",
      "execution_count": null,
      "outputs": []
    }
  ],
  "metadata": {
    "kernelspec": {
      "display_name": "Python 3",
      "language": "python",
      "name": "python3"
    },
    "language_info": {
      "codemirror_mode": {
        "name": "ipython",
        "version": 3
      },
      "file_extension": ".py",
      "mimetype": "text/x-python",
      "name": "python",
      "nbconvert_exporter": "python",
      "pygments_lexer": "ipython3",
      "version": "3.8.8"
    },
    "colab": {
      "name": "Personality scores 14.12.ipynb",
      "provenance": []
    }
  },
  "nbformat": 4,
  "nbformat_minor": 5
}