{
 "cells": [
  {
   "cell_type": "markdown",
   "id": "_yzLushd140O",
   "metadata": {
    "id": "_yzLushd140O"
   },
   "source": [
    "  ## Libraries"
   ]
  },
  {
   "cell_type": "code",
   "execution_count": 1,
   "id": "F8fYUs0gi-sI",
   "metadata": {
    "id": "F8fYUs0gi-sI"
   },
   "outputs": [],
   "source": [
    "# IMPORT THESE FIRST.\n",
    "import numpy as np\n",
    "import pandas as pd\n",
    "from sklearn.neighbors import KDTree\n",
    "#from sklearn.preprocessing import LabelEncoder\n",
    "#from sklearn.model_selection import train_test_split\n",
    "#import seaborn as sn\n",
    "#import matplotlib.pyplot as plt\n",
    "#from matplotlib.colors import ListedColormap\n",
    "#from sklearn.model_selection import train_test_split\n",
    "#from sklearn.neighbors import KNeighborsClassifier, KNeighborsRegressor\n",
    "#from sklearn.preprocessing import MinMaxScaler, PolynomialFeatures\n",
    "#from sklearn.datasets import (make_classification, make_blobs, load_breast_cancer, make_regression, make_friedman1,\n",
    "#                              load_iris)\n",
    "#from sklearn.linear_model import LinearRegression, Ridge, Lasso, LogisticRegression\n",
    "#from sklearn.svm import SVC, LinearSVC\n",
    "#from sklearn.tree import DecisionTreeClassifier, plot_tree\n",
    "#from sklearn.model_selection import cross_val_score, validation_curve, train_test_split"
   ]
  },
  {
   "cell_type": "code",
   "execution_count": 2,
   "id": "9d36cdad",
   "metadata": {
    "id": "9d36cdad"
   },
   "outputs": [],
   "source": [
    "df = pd.read_excel(\"https://github.com/TechLabs-Berlin/wt21-pet-match/blob/main/data_set/pet-set.xlsx?raw=true\")\n",
    "#df.head()"
   ]
  },
  {
   "cell_type": "markdown",
   "id": "68b5f4ad",
   "metadata": {
    "id": "68b5f4ad"
   },
   "source": [
    "### variable discribing the satisfaction level in percentage"
   ]
  },
  {
   "cell_type": "code",
   "execution_count": 3,
   "id": "1beacb32",
   "metadata": {
    "id": "1beacb32"
   },
   "outputs": [],
   "source": [
    "# replacing strings with numerical values\n",
    "df['expectations'] = df['My cat has met all my expectations'].replace({'Strongly agree': 5, 'Agree': 4, 'Neither agree nor disagree': 3, 'Disagree': 2, 'Strongly disagree': 1})\n",
    "df['happy_owner'] = df['I am happy with my cat'].replace({'Strongly agree': 5, 'Agree': 4, 'Neither agree nor disagree': 3, 'Disagree': 2, 'Strongly disagree': 1})\n",
    "df['happy_cat'] = df['I feel my cat is happy living with me'].replace({'Strongly agree': 5, 'Agree': 4, 'Neither agree nor disagree': 3, 'Disagree': 2, 'Strongly disagree': 1})\n",
    "df['rehome'] = df['I have considered relinquishing or rehoming this cat to someone else'].replace({'Strongly agree': 1, 'Agree': 2, 'Neither agree nor disagree': 3, 'Disagree': 4, 'Strongly disagree': 5})\n",
    "\n",
    "# aggregating final score\n",
    "df['satisf_level'] = (df['expectations'] + df['happy_owner'] + df['happy_cat'] + df['rehome'])/20"
   ]
  },
  {
   "cell_type": "markdown",
   "id": "b7bf45ef",
   "metadata": {
    "id": "b7bf45ef"
   },
   "source": [
    "# Owners / Adopters\n",
    "\n",
    "The aggregarion was made by Hany, all comments also belong to him:)\n",
    "Personality traits grouped in five scores according to BFI:\n",
    "\n",
    "* Extraversion\n",
    "\n",
    "* Agreeableness\n",
    "\n",
    "* Conscientiousness\n",
    "\n",
    "* Neuroticism  (how tense and moody the person )\n",
    "\n",
    "* Creativity"
   ]
  },
  {
   "cell_type": "code",
   "execution_count": 4,
   "id": "ceb775e4",
   "metadata": {
    "id": "ceb775e4"
   },
   "outputs": [],
   "source": [
    "# slice with the BFI relevant adopters data\n",
    "adopters = df.iloc[:, 61:]\n",
    "# remove the NaN , they are text here\n",
    "adopters.replace(\"NaN\",np.nan, inplace =True)\n",
    "adopters.fillna(0,inplace=True)\n",
    "\n",
    "# lisitng the Reverse questions (take care of the numbering)\n",
    "rev_col = adopters.iloc[:,[1,5,7,8,11,17,20,22,23,26,30,33,34,36,40,42]]\n",
    "rev_ques = rev_col.replace({'Agree strongly': 1, 'Agree a little': 2, 'Neither agree nor disagree': 3, 'Disagree a little': 4, 'Disagree strongly': 5})\n",
    "\n",
    "#listing normal questions \n",
    "normal_ques = adopters.drop(columns = rev_col).replace({'Agree strongly': 5, 'Agree a little': 4, 'Neither agree nor disagree': 3, 'Disagree a little': 2, 'Disagree strongly': 1})\n",
    "\n",
    "# make them into one set, \n",
    "adopt_score =  pd.concat([ normal_ques, rev_ques], axis=1)\n",
    "\n",
    "#adopt_score.head()"
   ]
  },
  {
   "cell_type": "markdown",
   "id": "sx1HsRQEYfJ9",
   "metadata": {
    "id": "sx1HsRQEYfJ9"
   },
   "source": [
    "#### note: the code may require some refactoring (working with the bigger set )\n",
    "- **used \"conctinate instade of inplace= True** : with .replace it gets warning \" copy of a slice from a DataFrame\" and the inplace is not fully happpening espically when applaying that for the 2nd time "
   ]
  },
  {
   "cell_type": "markdown",
   "id": "jWkpmm_NYk8y",
   "metadata": {
    "id": "jWkpmm_NYk8y"
   },
   "source": [
    "#### clastering (seems little hard coded, due to the use of concatinate)\n",
    "\n",
    "- rules (all them are re-aggranged as follows)\n",
    "Extraversion:(8 questions) 1, 6R, 11, 16, 21R, 26, 31R, 36\n",
    "Agreeableness: (9 questions)2R, 7, 12R, 17, 22, 27R, 32, 37R, 42 ## high no = high agreebleness \n",
    "Conscientiousness: (9 questions)3, 8R, 13, 18R, 23R, 28, 33, 38, 43R\n",
    "Neuroticism:(8 questions) 4, 9R, 14, 19, 24R, 29, 34R, 39\n",
    "Openness: (10 ques )5, 10, 15, 20, 25, 30, 35R, 40, 41R, 44 "
   ]
  },
  {
   "cell_type": "code",
   "execution_count": 5,
   "id": "32rZkTk8YZkD",
   "metadata": {
    "id": "32rZkTk8YZkD"
   },
   "outputs": [],
   "source": [
    "# arrange them for better reading.\n",
    "\n",
    "\n",
    "extraversion = adopt_score.iloc[:,[0,29,6,10,34,16,38,22]]          ##Extraversion\n",
    "agreeableness = adopt_score.iloc[:,[28,4,32,11,14,37,20,41,26]]     ##Agreeableness\n",
    "conscientiousness = adopt_score.iloc[:,[1,30,7,33,35,17,21,23,43]]  ##Conscientiousness\n",
    "neuroticism = adopt_score.iloc[:,[2,31,8,12,36,18,39,24]]                 ##Neuroticism  (how tense and moody the person )\n",
    "creativity = adopt_score.iloc[:,[3,5,9,13,15,19,40,25,42,-1]]      ## openess & creativity\n",
    "\n",
    "\n",
    "## putting them into columns with precenatges (it can be added to any df )\n",
    "\n",
    "adopt_score[\"extraversion\"] =extraversion.sum(axis=1)/(len(extraversion.columns)*5)\n",
    "adopt_score[\"easy_going\"] =agreeableness.sum(axis=1)/(len(agreeableness.columns)*5)\n",
    "adopt_score[\"diligent\"] =conscientiousness.sum(axis=1)/(len(conscientiousness.columns)*5)\n",
    "adopt_score[\"moody_tense\"] =neuroticism.sum(axis=1)/(len(neuroticism.columns)*5)\n",
    "adopt_score[\"creative\"] =creativity.sum(axis=1)/(len(creativity.columns)*5)\n",
    "\n",
    "adopt_scores_only = adopt_score[[\"extraversion\", \"easy_going\", \"diligent\", \"moody_tense\", \"creative\"]]"
   ]
  },
  {
   "cell_type": "code",
   "execution_count": 6,
   "id": "RAQI0i5fY95s",
   "metadata": {
    "id": "RAQI0i5fY95s"
   },
   "outputs": [],
   "source": [
    "#adopt_scores_only.head(3)"
   ]
  },
  {
   "cell_type": "markdown",
   "id": "2PmIax05Z1nH",
   "metadata": {
    "id": "2PmIax05Z1nH"
   },
   "source": [
    "# Cats\n",
    "\n",
    "Grouping cats into 4 personalitiy-Cluster performed by Dayo, I changed it a bit so that we get comparable scores for cats and adopters.\n",
    "\n",
    "* PC1: Gregariousness (confident, friendly, interactive\n",
    "\n",
    "* PC: Aggressiveness (agonistic when handled or interacted with)\n",
    "\n",
    "* PC: Aloofness/avoidance(avoidant of interaction, not friendly\n",
    "\n",
    "* PC4: Anxiousness/fearfulness (wary of novel/less familiarpeople)\n"
   ]
  },
  {
   "cell_type": "code",
   "execution_count": 7,
   "id": "vMu5bjCJxNZk",
   "metadata": {
    "id": "vMu5bjCJxNZk"
   },
   "outputs": [],
   "source": [
    "cats_pc = df.iloc[:, 26 : 54]\n",
    "# remove the NaN , they are text here\n",
    "cats_pc.replace(\"NaN\",np.nan, inplace =True)\n",
    "cats_pc.fillna(0,inplace=True)\n",
    "\n",
    "# listing the Reverse questions (take care of the numbering)\n",
    "rev_col_c = cats_pc.iloc[:,[9,16,18,19,20,27]].rename(columns = {\"My cat comes and asks me for attention and initiates contact with me (e.g. the cat comes and sits on my knee, or rubs up against me and around me, in order to receive fuss/strokes/chin/cheek tickles)\": 'REVERSED My cat comes and asks me for attention and initiates contact with me',\n",
    "                                          'My cat is timid': 'REVERSED My cat is timid',\n",
    "                                          'My cat likes being stroked': 'REVERSED My cat likes being stroked',\n",
    "                                          'My cat is very tolerant to being handled': 'REVERSED My cat is very tolerant to being handled',\n",
    "                                          'My cat is fearful': 'REVERSED My cat is fearful',\n",
    "                                          'My cat would prefer to be left alone, rather than be with people': 'REVERSED My cat would prefer to be left alone, rather than be with people'})\n",
    "rev_ques_c = rev_col_c.replace({'Strongly disagree': 5, 'Never': 5, 'Disagree': 4, 'Once': 4, 'Neither agree nor disagree': 3, 'Occasionally': 3, 'Agree': 2, 'Usually': 2, 'Strongly agree': 1, 'Always': 1})\n",
    "\n",
    "#listing normal questions \n",
    "normal_ques_c = cats_pc.replace({'Strongly disagree': 1, 'Never': 1, 'Disagree': 2, 'Once': 2, 'Neither agree nor disagree': 3, 'Occasionally': 3, 'Agree': 4, 'Usually': 4, 'Strongly agree': 5, 'Always': 5}).drop(columns=cats_pc.iloc[:, [18, 19, 22]])\n",
    "\n",
    "# make them into one set, \n",
    "cats_score =  pd.concat([normal_ques_c, rev_ques_c], axis=1)\n",
    "\n",
    "# grouping\n",
    "gregariousness = cats_score.iloc[:,[0,1,2,9,15,17,18,23,24,26,27]] #Gregariousness (confident, friendly, interactive)\n",
    "aggressiveness = cats_score.iloc[:,[3,7,10,11,12,13,29]] #Aggressiveness (agonistic when handled or interacted with)\n",
    "avoidance = cats_score.iloc[:,[4,5,6,8,14,19,25,28]] #Aloofness/avoidance(avoidant of interaction, not friendly)\n",
    "anxiousness = cats_score.iloc[:,[16,20,21,22,24,]] #Anxiousness/fearfulness (wary of novel/less familiarpeople)\n",
    "\n",
    "# aggregating to percentages\n",
    "cats_score[\"friendly\"] =gregariousness.sum(axis=1)/(len(gregariousness.columns)*5)\n",
    "cats_score[\"agressive\"] =aggressiveness.sum(axis=1)/(len(aggressiveness.columns)*5)\n",
    "cats_score[\"avoidant\"] =avoidance.sum(axis=1)/(len(avoidance.columns)*5)\n",
    "cats_score[\"anxious\"] =anxiousness.sum(axis=1)/(len(anxiousness.columns)*5)\n",
    "\n",
    "cats_scores_only = cats_score[[\"friendly\",\"agressive\", \"avoidant\", \"anxious\"]]"
   ]
  },
  {
   "cell_type": "code",
   "execution_count": 8,
   "id": "aWz1wM1Gxsq5",
   "metadata": {
    "id": "aWz1wM1Gxsq5"
   },
   "outputs": [],
   "source": [
    "df_scores = pd.concat([cats_scores_only, adopt_scores_only, df[\"satisf_level\"]], axis=1)\n",
    "#df_scores.head(3)"
   ]
  },
  {
   "cell_type": "markdown",
   "id": "eHVI7hFB0rlM",
   "metadata": {
    "id": "eHVI7hFB0rlM"
   },
   "source": [
    "# Three datasets with scores only:\n",
    "\n",
    "* adopt_scores_only: personality scores of potential adopters\n",
    "* cats_scores_only: cats' personality scores\n",
    "* df_scores: cats' and owners' scores + satisfaction level"
   ]
  },
  {
   "cell_type": "code",
   "execution_count": 12,
   "id": "0n59USpT1cxM",
   "metadata": {
    "id": "0n59USpT1cxM"
   },
   "outputs": [],
   "source": [
    "#adopt_scores_only.head(5)\n",
    "#cats_scores_only.head(5)\n",
    "#df_scores.head(5)\n",
    "#df_scores.isna().value_counts()"
   ]
  },
  {
   "cell_type": "markdown",
   "id": "_LDjTiX6Va22",
   "metadata": {
    "id": "_LDjTiX6Va22"
   },
   "source": [
    "# KDTree, cats\n",
    "clusters similar cats"
   ]
  },
  {
   "cell_type": "markdown",
   "id": "sDV4E53zfqfS",
   "metadata": {
    "id": "sDV4E53zfqfS"
   },
   "source": [
    "X - cats_scores_only"
   ]
  },
  {
   "cell_type": "code",
   "execution_count": 13,
   "id": "m_RU31CrhgXb",
   "metadata": {
    "id": "m_RU31CrhgXb"
   },
   "outputs": [],
   "source": [
    "df_1 = df_scores.dropna()"
   ]
  },
  {
   "cell_type": "code",
   "execution_count": 14,
   "id": "LEmatEBreKW_",
   "metadata": {
    "id": "LEmatEBreKW_"
   },
   "outputs": [],
   "source": [
    "cats = df_1[['friendly', 'agressive', 'avoidant', 'anxious']]"
   ]
  },
  {
   "cell_type": "code",
   "execution_count": 15,
   "id": "BO1ftAcIp-aY",
   "metadata": {
    "id": "BO1ftAcIp-aY"
   },
   "outputs": [],
   "source": [
    "# building a tree\n",
    "\n",
    "tree = KDTree(cats, leaf_size = 2)"
   ]
  },
  {
   "cell_type": "code",
   "execution_count": 16,
   "id": "8rgKdXKgqkMQ",
   "metadata": {
    "colab": {
     "base_uri": "https://localhost:8080/"
    },
    "id": "8rgKdXKgqkMQ",
    "outputId": "7a76977d-777a-484a-ebc2-9dbd502a25da"
   },
   "outputs": [
    {
     "name": "stdout",
     "output_type": "stream",
     "text": [
      "[[1.         0.96203519 0.94758908 0.94742966 0.94285714 0.94044067\n",
      "  0.93961039 0.93817513 0.93394214 0.933543  ]] [[   0 1849 1737  240 3054  433 1446 3005  627 2018]]\n"
     ]
    }
   ],
   "source": [
    "# returning the distance and indexes of the 10 neares neignbors\n",
    "dist, ind = tree.query(cats[:1], k=10)                \n",
    "print(1-dist, ind)"
   ]
  },
  {
   "cell_type": "code",
   "execution_count": 17,
   "id": "mnQfR0jZulJX",
   "metadata": {
    "colab": {
     "base_uri": "https://localhost:8080/"
    },
    "id": "mnQfR0jZulJX",
    "outputId": "7b1f1a9e-ef92-4c6e-ac1a-f53f0ab0518b"
   },
   "outputs": [
    {
     "data": {
      "text/plain": [
       "[0, 1849, 1737, 240, 3054, 433, 1446, 3005, 627, 2018]"
      ]
     },
     "execution_count": 17,
     "metadata": {},
     "output_type": "execute_result"
    }
   ],
   "source": [
    "# returning indices of the nearest cats\n",
    "\n",
    "ind.tolist()[0]"
   ]
  },
  {
   "cell_type": "code",
   "execution_count": 18,
   "id": "p7Lizdcowz8o",
   "metadata": {
    "colab": {
     "base_uri": "https://localhost:8080/"
    },
    "id": "p7Lizdcowz8o",
    "outputId": "43eb955c-7036-48bc-fa60-b398fcaa00b0"
   },
   "outputs": [
    {
     "data": {
      "text/plain": [
       "[0.0,\n",
       " 0.037964806474052315,\n",
       " 0.05241092484405263,\n",
       " 0.052570339357845386,\n",
       " 0.05714285714285716,\n",
       " 0.059559332178817925,\n",
       " 0.06038961038961044,\n",
       " 0.06182486594879755,\n",
       " 0.06605785782326745,\n",
       " 0.06645700220580597]"
      ]
     },
     "execution_count": 18,
     "metadata": {},
     "output_type": "execute_result"
    }
   ],
   "source": [
    "# transforming distances into percentages\n",
    "dist = 1 - dist\n",
    "(1-dist).tolist()[0]"
   ]
  },
  {
   "cell_type": "code",
   "execution_count": 19,
   "id": "2hQk6D2ixFy3",
   "metadata": {
    "id": "2hQk6D2ixFy3"
   },
   "outputs": [],
   "source": [
    "recomend_list = pd.DataFrame()\n",
    "recomend_list['labels'] = ind.tolist()[0]\n",
    "recomend_list['distance'] = (1-dist).tolist()[0]\n",
    "recomend_list = recomend_list.set_index('labels')"
   ]
  },
  {
   "cell_type": "code",
   "execution_count": 22,
   "id": "py1vgEktxbcX",
   "metadata": {
    "colab": {
     "base_uri": "https://localhost:8080/",
     "height": 390
    },
    "id": "py1vgEktxbcX",
    "outputId": "5a773a7d-8126-449e-aa3e-7dad06b56af6"
   },
   "outputs": [
    {
     "data": {
      "text/html": [
       "\n",
       "  <div id=\"df-e35016e8-43cf-4a49-8a82-86ac92892436\">\n",
       "    <div class=\"colab-df-container\">\n",
       "      <div>\n",
       "<style scoped>\n",
       "    .dataframe tbody tr th:only-of-type {\n",
       "        vertical-align: middle;\n",
       "    }\n",
       "\n",
       "    .dataframe tbody tr th {\n",
       "        vertical-align: top;\n",
       "    }\n",
       "\n",
       "    .dataframe thead th {\n",
       "        text-align: right;\n",
       "    }\n",
       "</style>\n",
       "<table border=\"1\" class=\"dataframe\">\n",
       "  <thead>\n",
       "    <tr style=\"text-align: right;\">\n",
       "      <th></th>\n",
       "      <th>distance</th>\n",
       "    </tr>\n",
       "    <tr>\n",
       "      <th>labels</th>\n",
       "      <th></th>\n",
       "    </tr>\n",
       "  </thead>\n",
       "  <tbody>\n",
       "    <tr>\n",
       "      <th>0</th>\n",
       "      <td>0.000000</td>\n",
       "    </tr>\n",
       "    <tr>\n",
       "      <th>1849</th>\n",
       "      <td>0.037965</td>\n",
       "    </tr>\n",
       "    <tr>\n",
       "      <th>1737</th>\n",
       "      <td>0.052411</td>\n",
       "    </tr>\n",
       "    <tr>\n",
       "      <th>240</th>\n",
       "      <td>0.052570</td>\n",
       "    </tr>\n",
       "    <tr>\n",
       "      <th>3054</th>\n",
       "      <td>0.057143</td>\n",
       "    </tr>\n",
       "    <tr>\n",
       "      <th>433</th>\n",
       "      <td>0.059559</td>\n",
       "    </tr>\n",
       "    <tr>\n",
       "      <th>1446</th>\n",
       "      <td>0.060390</td>\n",
       "    </tr>\n",
       "    <tr>\n",
       "      <th>3005</th>\n",
       "      <td>0.061825</td>\n",
       "    </tr>\n",
       "    <tr>\n",
       "      <th>627</th>\n",
       "      <td>0.066058</td>\n",
       "    </tr>\n",
       "    <tr>\n",
       "      <th>2018</th>\n",
       "      <td>0.066457</td>\n",
       "    </tr>\n",
       "  </tbody>\n",
       "</table>\n",
       "</div>\n",
       "      <button class=\"colab-df-convert\" onclick=\"convertToInteractive('df-e35016e8-43cf-4a49-8a82-86ac92892436')\"\n",
       "              title=\"Convert this dataframe to an interactive table.\"\n",
       "              style=\"display:none;\">\n",
       "        \n",
       "  <svg xmlns=\"http://www.w3.org/2000/svg\" height=\"24px\"viewBox=\"0 0 24 24\"\n",
       "       width=\"24px\">\n",
       "    <path d=\"M0 0h24v24H0V0z\" fill=\"none\"/>\n",
       "    <path d=\"M18.56 5.44l.94 2.06.94-2.06 2.06-.94-2.06-.94-.94-2.06-.94 2.06-2.06.94zm-11 1L8.5 8.5l.94-2.06 2.06-.94-2.06-.94L8.5 2.5l-.94 2.06-2.06.94zm10 10l.94 2.06.94-2.06 2.06-.94-2.06-.94-.94-2.06-.94 2.06-2.06.94z\"/><path d=\"M17.41 7.96l-1.37-1.37c-.4-.4-.92-.59-1.43-.59-.52 0-1.04.2-1.43.59L10.3 9.45l-7.72 7.72c-.78.78-.78 2.05 0 2.83L4 21.41c.39.39.9.59 1.41.59.51 0 1.02-.2 1.41-.59l7.78-7.78 2.81-2.81c.8-.78.8-2.07 0-2.86zM5.41 20L4 18.59l7.72-7.72 1.47 1.35L5.41 20z\"/>\n",
       "  </svg>\n",
       "      </button>\n",
       "      \n",
       "  <style>\n",
       "    .colab-df-container {\n",
       "      display:flex;\n",
       "      flex-wrap:wrap;\n",
       "      gap: 12px;\n",
       "    }\n",
       "\n",
       "    .colab-df-convert {\n",
       "      background-color: #E8F0FE;\n",
       "      border: none;\n",
       "      border-radius: 50%;\n",
       "      cursor: pointer;\n",
       "      display: none;\n",
       "      fill: #1967D2;\n",
       "      height: 32px;\n",
       "      padding: 0 0 0 0;\n",
       "      width: 32px;\n",
       "    }\n",
       "\n",
       "    .colab-df-convert:hover {\n",
       "      background-color: #E2EBFA;\n",
       "      box-shadow: 0px 1px 2px rgba(60, 64, 67, 0.3), 0px 1px 3px 1px rgba(60, 64, 67, 0.15);\n",
       "      fill: #174EA6;\n",
       "    }\n",
       "\n",
       "    [theme=dark] .colab-df-convert {\n",
       "      background-color: #3B4455;\n",
       "      fill: #D2E3FC;\n",
       "    }\n",
       "\n",
       "    [theme=dark] .colab-df-convert:hover {\n",
       "      background-color: #434B5C;\n",
       "      box-shadow: 0px 1px 3px 1px rgba(0, 0, 0, 0.15);\n",
       "      filter: drop-shadow(0px 1px 2px rgba(0, 0, 0, 0.3));\n",
       "      fill: #FFFFFF;\n",
       "    }\n",
       "  </style>\n",
       "\n",
       "      <script>\n",
       "        const buttonEl =\n",
       "          document.querySelector('#df-e35016e8-43cf-4a49-8a82-86ac92892436 button.colab-df-convert');\n",
       "        buttonEl.style.display =\n",
       "          google.colab.kernel.accessAllowed ? 'block' : 'none';\n",
       "\n",
       "        async function convertToInteractive(key) {\n",
       "          const element = document.querySelector('#df-e35016e8-43cf-4a49-8a82-86ac92892436');\n",
       "          const dataTable =\n",
       "            await google.colab.kernel.invokeFunction('convertToInteractive',\n",
       "                                                     [key], {});\n",
       "          if (!dataTable) return;\n",
       "\n",
       "          const docLinkHtml = 'Like what you see? Visit the ' +\n",
       "            '<a target=\"_blank\" href=https://colab.research.google.com/notebooks/data_table.ipynb>data table notebook</a>'\n",
       "            + ' to learn more about interactive tables.';\n",
       "          element.innerHTML = '';\n",
       "          dataTable['output_type'] = 'display_data';\n",
       "          await google.colab.output.renderOutput(dataTable, element);\n",
       "          const docLink = document.createElement('div');\n",
       "          docLink.innerHTML = docLinkHtml;\n",
       "          element.appendChild(docLink);\n",
       "        }\n",
       "      </script>\n",
       "    </div>\n",
       "  </div>\n",
       "  "
      ],
      "text/plain": [
       "        distance\n",
       "labels          \n",
       "0       0.000000\n",
       "1849    0.037965\n",
       "1737    0.052411\n",
       "240     0.052570\n",
       "3054    0.057143\n",
       "433     0.059559\n",
       "1446    0.060390\n",
       "3005    0.061825\n",
       "627     0.066058\n",
       "2018    0.066457"
      ]
     },
     "execution_count": 22,
     "metadata": {},
     "output_type": "execute_result"
    }
   ],
   "source": [
    "# returns the indices and percentage\n",
    "recomend_list"
   ]
  },
  {
   "cell_type": "code",
   "execution_count": 23,
   "id": "83ZekE8CrxLX",
   "metadata": {
    "colab": {
     "base_uri": "https://localhost:8080/",
     "height": 359
    },
    "id": "83ZekE8CrxLX",
    "outputId": "2d37e8bf-9989-423e-d61c-e3865d0a6100"
   },
   "outputs": [
    {
     "data": {
      "text/html": [
       "\n",
       "  <div id=\"df-932fa4d4-fb15-43df-93f7-b94cc24cf16f\">\n",
       "    <div class=\"colab-df-container\">\n",
       "      <div>\n",
       "<style scoped>\n",
       "    .dataframe tbody tr th:only-of-type {\n",
       "        vertical-align: middle;\n",
       "    }\n",
       "\n",
       "    .dataframe tbody tr th {\n",
       "        vertical-align: top;\n",
       "    }\n",
       "\n",
       "    .dataframe thead th {\n",
       "        text-align: right;\n",
       "    }\n",
       "</style>\n",
       "<table border=\"1\" class=\"dataframe\">\n",
       "  <thead>\n",
       "    <tr style=\"text-align: right;\">\n",
       "      <th></th>\n",
       "      <th>friendly</th>\n",
       "      <th>agressive</th>\n",
       "      <th>avoidant</th>\n",
       "      <th>anxious</th>\n",
       "      <th>distance</th>\n",
       "    </tr>\n",
       "  </thead>\n",
       "  <tbody>\n",
       "    <tr>\n",
       "      <th>0</th>\n",
       "      <td>0.690909</td>\n",
       "      <td>0.314286</td>\n",
       "      <td>0.650</td>\n",
       "      <td>0.68</td>\n",
       "      <td>0.000000</td>\n",
       "    </tr>\n",
       "    <tr>\n",
       "      <th>1849</th>\n",
       "      <td>0.600000</td>\n",
       "      <td>0.628571</td>\n",
       "      <td>0.625</td>\n",
       "      <td>0.68</td>\n",
       "      <td>0.037965</td>\n",
       "    </tr>\n",
       "    <tr>\n",
       "      <th>1737</th>\n",
       "      <td>0.636364</td>\n",
       "      <td>0.485714</td>\n",
       "      <td>0.425</td>\n",
       "      <td>0.84</td>\n",
       "      <td>0.052411</td>\n",
       "    </tr>\n",
       "    <tr>\n",
       "      <th>240</th>\n",
       "      <td>0.763636</td>\n",
       "      <td>0.342857</td>\n",
       "      <td>0.350</td>\n",
       "      <td>0.64</td>\n",
       "      <td>0.052570</td>\n",
       "    </tr>\n",
       "    <tr>\n",
       "      <th>3054</th>\n",
       "      <td>0.672727</td>\n",
       "      <td>0.400000</td>\n",
       "      <td>0.450</td>\n",
       "      <td>0.56</td>\n",
       "      <td>0.057143</td>\n",
       "    </tr>\n",
       "    <tr>\n",
       "      <th>433</th>\n",
       "      <td>0.672727</td>\n",
       "      <td>0.400000</td>\n",
       "      <td>0.875</td>\n",
       "      <td>0.72</td>\n",
       "      <td>0.059559</td>\n",
       "    </tr>\n",
       "    <tr>\n",
       "      <th>1446</th>\n",
       "      <td>0.854545</td>\n",
       "      <td>0.200000</td>\n",
       "      <td>0.375</td>\n",
       "      <td>0.60</td>\n",
       "      <td>0.060390</td>\n",
       "    </tr>\n",
       "    <tr>\n",
       "      <th>3005</th>\n",
       "      <td>0.600000</td>\n",
       "      <td>0.542857</td>\n",
       "      <td>0.575</td>\n",
       "      <td>0.76</td>\n",
       "      <td>0.061825</td>\n",
       "    </tr>\n",
       "    <tr>\n",
       "      <th>627</th>\n",
       "      <td>0.727273</td>\n",
       "      <td>0.342857</td>\n",
       "      <td>0.575</td>\n",
       "      <td>0.60</td>\n",
       "      <td>0.066058</td>\n",
       "    </tr>\n",
       "    <tr>\n",
       "      <th>2018</th>\n",
       "      <td>0.927273</td>\n",
       "      <td>0.200000</td>\n",
       "      <td>0.450</td>\n",
       "      <td>0.64</td>\n",
       "      <td>0.066457</td>\n",
       "    </tr>\n",
       "  </tbody>\n",
       "</table>\n",
       "</div>\n",
       "      <button class=\"colab-df-convert\" onclick=\"convertToInteractive('df-932fa4d4-fb15-43df-93f7-b94cc24cf16f')\"\n",
       "              title=\"Convert this dataframe to an interactive table.\"\n",
       "              style=\"display:none;\">\n",
       "        \n",
       "  <svg xmlns=\"http://www.w3.org/2000/svg\" height=\"24px\"viewBox=\"0 0 24 24\"\n",
       "       width=\"24px\">\n",
       "    <path d=\"M0 0h24v24H0V0z\" fill=\"none\"/>\n",
       "    <path d=\"M18.56 5.44l.94 2.06.94-2.06 2.06-.94-2.06-.94-.94-2.06-.94 2.06-2.06.94zm-11 1L8.5 8.5l.94-2.06 2.06-.94-2.06-.94L8.5 2.5l-.94 2.06-2.06.94zm10 10l.94 2.06.94-2.06 2.06-.94-2.06-.94-.94-2.06-.94 2.06-2.06.94z\"/><path d=\"M17.41 7.96l-1.37-1.37c-.4-.4-.92-.59-1.43-.59-.52 0-1.04.2-1.43.59L10.3 9.45l-7.72 7.72c-.78.78-.78 2.05 0 2.83L4 21.41c.39.39.9.59 1.41.59.51 0 1.02-.2 1.41-.59l7.78-7.78 2.81-2.81c.8-.78.8-2.07 0-2.86zM5.41 20L4 18.59l7.72-7.72 1.47 1.35L5.41 20z\"/>\n",
       "  </svg>\n",
       "      </button>\n",
       "      \n",
       "  <style>\n",
       "    .colab-df-container {\n",
       "      display:flex;\n",
       "      flex-wrap:wrap;\n",
       "      gap: 12px;\n",
       "    }\n",
       "\n",
       "    .colab-df-convert {\n",
       "      background-color: #E8F0FE;\n",
       "      border: none;\n",
       "      border-radius: 50%;\n",
       "      cursor: pointer;\n",
       "      display: none;\n",
       "      fill: #1967D2;\n",
       "      height: 32px;\n",
       "      padding: 0 0 0 0;\n",
       "      width: 32px;\n",
       "    }\n",
       "\n",
       "    .colab-df-convert:hover {\n",
       "      background-color: #E2EBFA;\n",
       "      box-shadow: 0px 1px 2px rgba(60, 64, 67, 0.3), 0px 1px 3px 1px rgba(60, 64, 67, 0.15);\n",
       "      fill: #174EA6;\n",
       "    }\n",
       "\n",
       "    [theme=dark] .colab-df-convert {\n",
       "      background-color: #3B4455;\n",
       "      fill: #D2E3FC;\n",
       "    }\n",
       "\n",
       "    [theme=dark] .colab-df-convert:hover {\n",
       "      background-color: #434B5C;\n",
       "      box-shadow: 0px 1px 3px 1px rgba(0, 0, 0, 0.15);\n",
       "      filter: drop-shadow(0px 1px 2px rgba(0, 0, 0, 0.3));\n",
       "      fill: #FFFFFF;\n",
       "    }\n",
       "  </style>\n",
       "\n",
       "      <script>\n",
       "        const buttonEl =\n",
       "          document.querySelector('#df-932fa4d4-fb15-43df-93f7-b94cc24cf16f button.colab-df-convert');\n",
       "        buttonEl.style.display =\n",
       "          google.colab.kernel.accessAllowed ? 'block' : 'none';\n",
       "\n",
       "        async function convertToInteractive(key) {\n",
       "          const element = document.querySelector('#df-932fa4d4-fb15-43df-93f7-b94cc24cf16f');\n",
       "          const dataTable =\n",
       "            await google.colab.kernel.invokeFunction('convertToInteractive',\n",
       "                                                     [key], {});\n",
       "          if (!dataTable) return;\n",
       "\n",
       "          const docLinkHtml = 'Like what you see? Visit the ' +\n",
       "            '<a target=\"_blank\" href=https://colab.research.google.com/notebooks/data_table.ipynb>data table notebook</a>'\n",
       "            + ' to learn more about interactive tables.';\n",
       "          element.innerHTML = '';\n",
       "          dataTable['output_type'] = 'display_data';\n",
       "          await google.colab.output.renderOutput(dataTable, element);\n",
       "          const docLink = document.createElement('div');\n",
       "          docLink.innerHTML = docLinkHtml;\n",
       "          element.appendChild(docLink);\n",
       "        }\n",
       "      </script>\n",
       "    </div>\n",
       "  </div>\n",
       "  "
      ],
      "text/plain": [
       "      friendly  agressive  avoidant  anxious  distance\n",
       "0     0.690909   0.314286     0.650     0.68  0.000000\n",
       "1849  0.600000   0.628571     0.625     0.68  0.037965\n",
       "1737  0.636364   0.485714     0.425     0.84  0.052411\n",
       "240   0.763636   0.342857     0.350     0.64  0.052570\n",
       "3054  0.672727   0.400000     0.450     0.56  0.057143\n",
       "433   0.672727   0.400000     0.875     0.72  0.059559\n",
       "1446  0.854545   0.200000     0.375     0.60  0.060390\n",
       "3005  0.600000   0.542857     0.575     0.76  0.061825\n",
       "627   0.727273   0.342857     0.575     0.60  0.066058\n",
       "2018  0.927273   0.200000     0.450     0.64  0.066457"
      ]
     },
     "execution_count": 23,
     "metadata": {},
     "output_type": "execute_result"
    }
   ],
   "source": [
    "#returning nearest cats personalities (seem random:)\n",
    "pd.concat([cats.loc[ind.tolist()[0]], recomend_list], axis = 1 )"
   ]
  },
  {
   "cell_type": "markdown",
   "id": "TUWJ9-C73RnJ",
   "metadata": {
    "id": "TUWJ9-C73RnJ"
   },
   "source": [
    "# KDTree Adopters"
   ]
  },
  {
   "cell_type": "code",
   "execution_count": 24,
   "id": "LhA6NIQbr745",
   "metadata": {
    "colab": {
     "base_uri": "https://localhost:8080/",
     "height": 419
    },
    "id": "LhA6NIQbr745",
    "outputId": "3fc40465-5679-45c5-8246-fad4e463e16b"
   },
   "outputs": [
    {
     "data": {
      "text/html": [
       "\n",
       "  <div id=\"df-c7447904-3b77-4335-8863-6d0c3dac423b\">\n",
       "    <div class=\"colab-df-container\">\n",
       "      <div>\n",
       "<style scoped>\n",
       "    .dataframe tbody tr th:only-of-type {\n",
       "        vertical-align: middle;\n",
       "    }\n",
       "\n",
       "    .dataframe tbody tr th {\n",
       "        vertical-align: top;\n",
       "    }\n",
       "\n",
       "    .dataframe thead th {\n",
       "        text-align: right;\n",
       "    }\n",
       "</style>\n",
       "<table border=\"1\" class=\"dataframe\">\n",
       "  <thead>\n",
       "    <tr style=\"text-align: right;\">\n",
       "      <th></th>\n",
       "      <th>extraversion</th>\n",
       "      <th>easy_going</th>\n",
       "      <th>diligent</th>\n",
       "      <th>moody_tense</th>\n",
       "      <th>creative</th>\n",
       "    </tr>\n",
       "  </thead>\n",
       "  <tbody>\n",
       "    <tr>\n",
       "      <th>0</th>\n",
       "      <td>0.675</td>\n",
       "      <td>0.822222</td>\n",
       "      <td>0.711111</td>\n",
       "      <td>0.700</td>\n",
       "      <td>0.64</td>\n",
       "    </tr>\n",
       "    <tr>\n",
       "      <th>1</th>\n",
       "      <td>0.675</td>\n",
       "      <td>0.800000</td>\n",
       "      <td>0.800000</td>\n",
       "      <td>0.750</td>\n",
       "      <td>0.78</td>\n",
       "    </tr>\n",
       "    <tr>\n",
       "      <th>2</th>\n",
       "      <td>0.625</td>\n",
       "      <td>0.418889</td>\n",
       "      <td>0.466667</td>\n",
       "      <td>0.600</td>\n",
       "      <td>0.28</td>\n",
       "    </tr>\n",
       "    <tr>\n",
       "      <th>3</th>\n",
       "      <td>0.575</td>\n",
       "      <td>0.800000</td>\n",
       "      <td>0.577778</td>\n",
       "      <td>0.925</td>\n",
       "      <td>0.72</td>\n",
       "    </tr>\n",
       "    <tr>\n",
       "      <th>4</th>\n",
       "      <td>0.575</td>\n",
       "      <td>0.733333</td>\n",
       "      <td>0.666667</td>\n",
       "      <td>0.675</td>\n",
       "      <td>0.58</td>\n",
       "    </tr>\n",
       "    <tr>\n",
       "      <th>...</th>\n",
       "      <td>...</td>\n",
       "      <td>...</td>\n",
       "      <td>...</td>\n",
       "      <td>...</td>\n",
       "      <td>...</td>\n",
       "    </tr>\n",
       "    <tr>\n",
       "      <th>3326</th>\n",
       "      <td>0.800</td>\n",
       "      <td>0.800000</td>\n",
       "      <td>0.933333</td>\n",
       "      <td>0.450</td>\n",
       "      <td>0.70</td>\n",
       "    </tr>\n",
       "    <tr>\n",
       "      <th>3327</th>\n",
       "      <td>0.700</td>\n",
       "      <td>0.755556</td>\n",
       "      <td>0.800000</td>\n",
       "      <td>0.425</td>\n",
       "      <td>0.80</td>\n",
       "    </tr>\n",
       "    <tr>\n",
       "      <th>3328</th>\n",
       "      <td>0.550</td>\n",
       "      <td>0.733333</td>\n",
       "      <td>0.555556</td>\n",
       "      <td>0.825</td>\n",
       "      <td>0.80</td>\n",
       "    </tr>\n",
       "    <tr>\n",
       "      <th>3329</th>\n",
       "      <td>0.675</td>\n",
       "      <td>0.733333</td>\n",
       "      <td>0.822222</td>\n",
       "      <td>0.750</td>\n",
       "      <td>0.70</td>\n",
       "    </tr>\n",
       "    <tr>\n",
       "      <th>3330</th>\n",
       "      <td>0.425</td>\n",
       "      <td>0.755556</td>\n",
       "      <td>0.711111</td>\n",
       "      <td>0.700</td>\n",
       "      <td>0.62</td>\n",
       "    </tr>\n",
       "  </tbody>\n",
       "</table>\n",
       "<p>3248 rows × 5 columns</p>\n",
       "</div>\n",
       "      <button class=\"colab-df-convert\" onclick=\"convertToInteractive('df-c7447904-3b77-4335-8863-6d0c3dac423b')\"\n",
       "              title=\"Convert this dataframe to an interactive table.\"\n",
       "              style=\"display:none;\">\n",
       "        \n",
       "  <svg xmlns=\"http://www.w3.org/2000/svg\" height=\"24px\"viewBox=\"0 0 24 24\"\n",
       "       width=\"24px\">\n",
       "    <path d=\"M0 0h24v24H0V0z\" fill=\"none\"/>\n",
       "    <path d=\"M18.56 5.44l.94 2.06.94-2.06 2.06-.94-2.06-.94-.94-2.06-.94 2.06-2.06.94zm-11 1L8.5 8.5l.94-2.06 2.06-.94-2.06-.94L8.5 2.5l-.94 2.06-2.06.94zm10 10l.94 2.06.94-2.06 2.06-.94-2.06-.94-.94-2.06-.94 2.06-2.06.94z\"/><path d=\"M17.41 7.96l-1.37-1.37c-.4-.4-.92-.59-1.43-.59-.52 0-1.04.2-1.43.59L10.3 9.45l-7.72 7.72c-.78.78-.78 2.05 0 2.83L4 21.41c.39.39.9.59 1.41.59.51 0 1.02-.2 1.41-.59l7.78-7.78 2.81-2.81c.8-.78.8-2.07 0-2.86zM5.41 20L4 18.59l7.72-7.72 1.47 1.35L5.41 20z\"/>\n",
       "  </svg>\n",
       "      </button>\n",
       "      \n",
       "  <style>\n",
       "    .colab-df-container {\n",
       "      display:flex;\n",
       "      flex-wrap:wrap;\n",
       "      gap: 12px;\n",
       "    }\n",
       "\n",
       "    .colab-df-convert {\n",
       "      background-color: #E8F0FE;\n",
       "      border: none;\n",
       "      border-radius: 50%;\n",
       "      cursor: pointer;\n",
       "      display: none;\n",
       "      fill: #1967D2;\n",
       "      height: 32px;\n",
       "      padding: 0 0 0 0;\n",
       "      width: 32px;\n",
       "    }\n",
       "\n",
       "    .colab-df-convert:hover {\n",
       "      background-color: #E2EBFA;\n",
       "      box-shadow: 0px 1px 2px rgba(60, 64, 67, 0.3), 0px 1px 3px 1px rgba(60, 64, 67, 0.15);\n",
       "      fill: #174EA6;\n",
       "    }\n",
       "\n",
       "    [theme=dark] .colab-df-convert {\n",
       "      background-color: #3B4455;\n",
       "      fill: #D2E3FC;\n",
       "    }\n",
       "\n",
       "    [theme=dark] .colab-df-convert:hover {\n",
       "      background-color: #434B5C;\n",
       "      box-shadow: 0px 1px 3px 1px rgba(0, 0, 0, 0.15);\n",
       "      filter: drop-shadow(0px 1px 2px rgba(0, 0, 0, 0.3));\n",
       "      fill: #FFFFFF;\n",
       "    }\n",
       "  </style>\n",
       "\n",
       "      <script>\n",
       "        const buttonEl =\n",
       "          document.querySelector('#df-c7447904-3b77-4335-8863-6d0c3dac423b button.colab-df-convert');\n",
       "        buttonEl.style.display =\n",
       "          google.colab.kernel.accessAllowed ? 'block' : 'none';\n",
       "\n",
       "        async function convertToInteractive(key) {\n",
       "          const element = document.querySelector('#df-c7447904-3b77-4335-8863-6d0c3dac423b');\n",
       "          const dataTable =\n",
       "            await google.colab.kernel.invokeFunction('convertToInteractive',\n",
       "                                                     [key], {});\n",
       "          if (!dataTable) return;\n",
       "\n",
       "          const docLinkHtml = 'Like what you see? Visit the ' +\n",
       "            '<a target=\"_blank\" href=https://colab.research.google.com/notebooks/data_table.ipynb>data table notebook</a>'\n",
       "            + ' to learn more about interactive tables.';\n",
       "          element.innerHTML = '';\n",
       "          dataTable['output_type'] = 'display_data';\n",
       "          await google.colab.output.renderOutput(dataTable, element);\n",
       "          const docLink = document.createElement('div');\n",
       "          docLink.innerHTML = docLinkHtml;\n",
       "          element.appendChild(docLink);\n",
       "        }\n",
       "      </script>\n",
       "    </div>\n",
       "  </div>\n",
       "  "
      ],
      "text/plain": [
       "      extraversion  easy_going  diligent  moody_tense  creative\n",
       "0            0.675    0.822222  0.711111        0.700      0.64\n",
       "1            0.675    0.800000  0.800000        0.750      0.78\n",
       "2            0.625    0.418889  0.466667        0.600      0.28\n",
       "3            0.575    0.800000  0.577778        0.925      0.72\n",
       "4            0.575    0.733333  0.666667        0.675      0.58\n",
       "...            ...         ...       ...          ...       ...\n",
       "3326         0.800    0.800000  0.933333        0.450      0.70\n",
       "3327         0.700    0.755556  0.800000        0.425      0.80\n",
       "3328         0.550    0.733333  0.555556        0.825      0.80\n",
       "3329         0.675    0.733333  0.822222        0.750      0.70\n",
       "3330         0.425    0.755556  0.711111        0.700      0.62\n",
       "\n",
       "[3248 rows x 5 columns]"
      ]
     },
     "execution_count": 24,
     "metadata": {},
     "output_type": "execute_result"
    }
   ],
   "source": [
    "adopters = df_1[['extraversion',\t'easy_going',\t'diligent',\t'moody_tense',\t'creative']]\n",
    "# building a tree\n",
    "tree_a = KDTree(adopters, leaf_size = 2)"
   ]
  },
  {
   "cell_type": "markdown",
   "id": "obapOcCm5HTD",
   "metadata": {
    "id": "obapOcCm5HTD"
   },
   "source": [
    "# Return nearest cats"
   ]
  },
  {
   "cell_type": "markdown",
   "id": "0Ngfc9TMoCTF",
   "metadata": {
    "id": "0Ngfc9TMoCTF"
   },
   "source": [
    "#### The following part was made to check if I can do something at all. This all needs to be replaced and use the whole adopter-cat raw to analize the distances, so that the whole step of finding nearest adopter and than nearest cats for this person cat might be undone. How i see it:\n",
    "* we use the whole raw with all the data on cats and owners and make a regression to predict satisfaction level (e.g. predicted satisfaction level in percentages)\n",
    "* for the potential adopter we make CROSS JOIN with all the cats we have, and predict the satisfaction level for each pair"
   ]
  },
  {
   "cell_type": "code",
   "execution_count": 26,
   "id": "414Mxqrj5swG",
   "metadata": {
    "id": "414Mxqrj5swG"
   },
   "outputs": [],
   "source": [
    "def cat_recommender(adopter):\n",
    "  # takes the characteristics of test adopter and finds the nearest neighbour in the training set, returns the distance and index of the nearest adopter from the training set\n",
    "  dist_a, ind_a = tree_a.query(adopter, k=1)\n",
    "  # takes the cat matching the adopter from the training set (the cat and adopter have the same indices)\n",
    "  dist, ind = tree.query(cats.loc[ind_a.tolist()[0]], k=10) \n",
    "  reccomend_list = pd.DataFrame()\n",
    "  reccomend_list['labels'] = ind.tolist()[0]\n",
    "  reccomend_list['distance'] = (1-dist).tolist()[0]\n",
    "  reccomend_list = reccomend_list.set_index('labels')\n",
    "  #returning nearest cats, their personality scores and distance in percentages\n",
    "  return pd.concat([cats.loc[ind.tolist()[0]], reccomend_list], axis = 1 )"
   ]
  },
  {
   "cell_type": "code",
   "execution_count": 27,
   "id": "zdt8Q44g698o",
   "metadata": {
    "colab": {
     "base_uri": "https://localhost:8080/",
     "height": 359
    },
    "id": "zdt8Q44g698o",
    "outputId": "50cd0cf9-bb8f-4ee8-b02d-f8065237fdbd"
   },
   "outputs": [
    {
     "data": {
      "text/html": [
       "\n",
       "  <div id=\"df-8da81eca-d0d6-4396-a3e5-6cc3ab866c76\">\n",
       "    <div class=\"colab-df-container\">\n",
       "      <div>\n",
       "<style scoped>\n",
       "    .dataframe tbody tr th:only-of-type {\n",
       "        vertical-align: middle;\n",
       "    }\n",
       "\n",
       "    .dataframe tbody tr th {\n",
       "        vertical-align: top;\n",
       "    }\n",
       "\n",
       "    .dataframe thead th {\n",
       "        text-align: right;\n",
       "    }\n",
       "</style>\n",
       "<table border=\"1\" class=\"dataframe\">\n",
       "  <thead>\n",
       "    <tr style=\"text-align: right;\">\n",
       "      <th></th>\n",
       "      <th>friendly</th>\n",
       "      <th>agressive</th>\n",
       "      <th>avoidant</th>\n",
       "      <th>anxious</th>\n",
       "      <th>distance</th>\n",
       "    </tr>\n",
       "  </thead>\n",
       "  <tbody>\n",
       "    <tr>\n",
       "      <th>2</th>\n",
       "      <td>0.654545</td>\n",
       "      <td>0.514286</td>\n",
       "      <td>0.700</td>\n",
       "      <td>0.64</td>\n",
       "      <td>1.000000</td>\n",
       "    </tr>\n",
       "    <tr>\n",
       "      <th>879</th>\n",
       "      <td>0.781818</td>\n",
       "      <td>0.228571</td>\n",
       "      <td>0.375</td>\n",
       "      <td>0.48</td>\n",
       "      <td>0.955872</td>\n",
       "    </tr>\n",
       "    <tr>\n",
       "      <th>3069</th>\n",
       "      <td>0.727273</td>\n",
       "      <td>0.485714</td>\n",
       "      <td>0.525</td>\n",
       "      <td>0.88</td>\n",
       "      <td>0.946797</td>\n",
       "    </tr>\n",
       "    <tr>\n",
       "      <th>2083</th>\n",
       "      <td>0.818182</td>\n",
       "      <td>0.314286</td>\n",
       "      <td>0.350</td>\n",
       "      <td>0.48</td>\n",
       "      <td>0.938425</td>\n",
       "    </tr>\n",
       "    <tr>\n",
       "      <th>1182</th>\n",
       "      <td>0.654545</td>\n",
       "      <td>0.228571</td>\n",
       "      <td>0.325</td>\n",
       "      <td>0.84</td>\n",
       "      <td>0.927564</td>\n",
       "    </tr>\n",
       "    <tr>\n",
       "      <th>406</th>\n",
       "      <td>0.727273</td>\n",
       "      <td>0.371429</td>\n",
       "      <td>0.425</td>\n",
       "      <td>0.56</td>\n",
       "      <td>0.927564</td>\n",
       "    </tr>\n",
       "    <tr>\n",
       "      <th>125</th>\n",
       "      <td>0.709091</td>\n",
       "      <td>0.228571</td>\n",
       "      <td>0.350</td>\n",
       "      <td>0.64</td>\n",
       "      <td>0.927564</td>\n",
       "    </tr>\n",
       "    <tr>\n",
       "      <th>2016</th>\n",
       "      <td>0.763636</td>\n",
       "      <td>0.200000</td>\n",
       "      <td>0.450</td>\n",
       "      <td>0.56</td>\n",
       "      <td>0.923096</td>\n",
       "    </tr>\n",
       "    <tr>\n",
       "      <th>477</th>\n",
       "      <td>0.763636</td>\n",
       "      <td>0.228571</td>\n",
       "      <td>0.550</td>\n",
       "      <td>0.64</td>\n",
       "      <td>0.921924</td>\n",
       "    </tr>\n",
       "    <tr>\n",
       "      <th>1931</th>\n",
       "      <td>0.636364</td>\n",
       "      <td>0.314286</td>\n",
       "      <td>0.375</td>\n",
       "      <td>0.96</td>\n",
       "      <td>0.914179</td>\n",
       "    </tr>\n",
       "  </tbody>\n",
       "</table>\n",
       "</div>\n",
       "      <button class=\"colab-df-convert\" onclick=\"convertToInteractive('df-8da81eca-d0d6-4396-a3e5-6cc3ab866c76')\"\n",
       "              title=\"Convert this dataframe to an interactive table.\"\n",
       "              style=\"display:none;\">\n",
       "        \n",
       "  <svg xmlns=\"http://www.w3.org/2000/svg\" height=\"24px\"viewBox=\"0 0 24 24\"\n",
       "       width=\"24px\">\n",
       "    <path d=\"M0 0h24v24H0V0z\" fill=\"none\"/>\n",
       "    <path d=\"M18.56 5.44l.94 2.06.94-2.06 2.06-.94-2.06-.94-.94-2.06-.94 2.06-2.06.94zm-11 1L8.5 8.5l.94-2.06 2.06-.94-2.06-.94L8.5 2.5l-.94 2.06-2.06.94zm10 10l.94 2.06.94-2.06 2.06-.94-2.06-.94-.94-2.06-.94 2.06-2.06.94z\"/><path d=\"M17.41 7.96l-1.37-1.37c-.4-.4-.92-.59-1.43-.59-.52 0-1.04.2-1.43.59L10.3 9.45l-7.72 7.72c-.78.78-.78 2.05 0 2.83L4 21.41c.39.39.9.59 1.41.59.51 0 1.02-.2 1.41-.59l7.78-7.78 2.81-2.81c.8-.78.8-2.07 0-2.86zM5.41 20L4 18.59l7.72-7.72 1.47 1.35L5.41 20z\"/>\n",
       "  </svg>\n",
       "      </button>\n",
       "      \n",
       "  <style>\n",
       "    .colab-df-container {\n",
       "      display:flex;\n",
       "      flex-wrap:wrap;\n",
       "      gap: 12px;\n",
       "    }\n",
       "\n",
       "    .colab-df-convert {\n",
       "      background-color: #E8F0FE;\n",
       "      border: none;\n",
       "      border-radius: 50%;\n",
       "      cursor: pointer;\n",
       "      display: none;\n",
       "      fill: #1967D2;\n",
       "      height: 32px;\n",
       "      padding: 0 0 0 0;\n",
       "      width: 32px;\n",
       "    }\n",
       "\n",
       "    .colab-df-convert:hover {\n",
       "      background-color: #E2EBFA;\n",
       "      box-shadow: 0px 1px 2px rgba(60, 64, 67, 0.3), 0px 1px 3px 1px rgba(60, 64, 67, 0.15);\n",
       "      fill: #174EA6;\n",
       "    }\n",
       "\n",
       "    [theme=dark] .colab-df-convert {\n",
       "      background-color: #3B4455;\n",
       "      fill: #D2E3FC;\n",
       "    }\n",
       "\n",
       "    [theme=dark] .colab-df-convert:hover {\n",
       "      background-color: #434B5C;\n",
       "      box-shadow: 0px 1px 3px 1px rgba(0, 0, 0, 0.15);\n",
       "      filter: drop-shadow(0px 1px 2px rgba(0, 0, 0, 0.3));\n",
       "      fill: #FFFFFF;\n",
       "    }\n",
       "  </style>\n",
       "\n",
       "      <script>\n",
       "        const buttonEl =\n",
       "          document.querySelector('#df-8da81eca-d0d6-4396-a3e5-6cc3ab866c76 button.colab-df-convert');\n",
       "        buttonEl.style.display =\n",
       "          google.colab.kernel.accessAllowed ? 'block' : 'none';\n",
       "\n",
       "        async function convertToInteractive(key) {\n",
       "          const element = document.querySelector('#df-8da81eca-d0d6-4396-a3e5-6cc3ab866c76');\n",
       "          const dataTable =\n",
       "            await google.colab.kernel.invokeFunction('convertToInteractive',\n",
       "                                                     [key], {});\n",
       "          if (!dataTable) return;\n",
       "\n",
       "          const docLinkHtml = 'Like what you see? Visit the ' +\n",
       "            '<a target=\"_blank\" href=https://colab.research.google.com/notebooks/data_table.ipynb>data table notebook</a>'\n",
       "            + ' to learn more about interactive tables.';\n",
       "          element.innerHTML = '';\n",
       "          dataTable['output_type'] = 'display_data';\n",
       "          await google.colab.output.renderOutput(dataTable, element);\n",
       "          const docLink = document.createElement('div');\n",
       "          docLink.innerHTML = docLinkHtml;\n",
       "          element.appendChild(docLink);\n",
       "        }\n",
       "      </script>\n",
       "    </div>\n",
       "  </div>\n",
       "  "
      ],
      "text/plain": [
       "      friendly  agressive  avoidant  anxious  distance\n",
       "2     0.654545   0.514286     0.700     0.64  1.000000\n",
       "879   0.781818   0.228571     0.375     0.48  0.955872\n",
       "3069  0.727273   0.485714     0.525     0.88  0.946797\n",
       "2083  0.818182   0.314286     0.350     0.48  0.938425\n",
       "1182  0.654545   0.228571     0.325     0.84  0.927564\n",
       "406   0.727273   0.371429     0.425     0.56  0.927564\n",
       "125   0.709091   0.228571     0.350     0.64  0.927564\n",
       "2016  0.763636   0.200000     0.450     0.56  0.923096\n",
       "477   0.763636   0.228571     0.550     0.64  0.921924\n",
       "1931  0.636364   0.314286     0.375     0.96  0.914179"
      ]
     },
     "execution_count": 27,
     "metadata": {},
     "output_type": "execute_result"
    }
   ],
   "source": [
    "cat_recommender([[0.75, 0.3, 0.25, 0.9, 0.1]])"
   ]
  },
  {
   "cell_type": "code",
   "execution_count": null,
   "id": "-zj8wmlAqEfL",
   "metadata": {
    "id": "-zj8wmlAqEfL"
   },
   "outputs": [],
   "source": []
  }
 ],
 "metadata": {
  "colab": {
   "name": "Shitty Recommendations 05.01.ipynb",
   "provenance": []
  },
  "kernelspec": {
   "display_name": "Python 3 (ipykernel)",
   "language": "python",
   "name": "python3"
  },
  "language_info": {
   "codemirror_mode": {
    "name": "ipython",
    "version": 3
   },
   "file_extension": ".py",
   "mimetype": "text/x-python",
   "name": "python",
   "nbconvert_exporter": "python",
   "pygments_lexer": "ipython3",
   "version": "3.8.12"
  }
 },
 "nbformat": 4,
 "nbformat_minor": 5
}
